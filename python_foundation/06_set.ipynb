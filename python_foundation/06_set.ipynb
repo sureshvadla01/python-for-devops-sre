{
 "cells": [
  {
   "cell_type": "code",
   "execution_count": null,
   "id": "d761a494",
   "metadata": {},
   "outputs": [],
   "source": [
    "'''\n",
    "Python sets, a very handy and efficient data type for storing unique items.\n",
    "A set is an unordered, mutable collection of unique elements.\n",
    "It’s like a mathematical set — it automatically removes duplicates and supports union, intersection, and difference operations.\n",
    "my_set = {item1, item2, item3}\n",
    "\n",
    "| Feature           | Description                               |\n",
    "| ----------------- | ----------------------------------------- |\n",
    "| Unique elements | Duplicates are automatically removed      |\n",
    "| Unordered       | No indexing or slicing                    |\n",
    "| Mutable        | You can add or remove items               |\n",
    "| Non-indexed    | You can’t access by position (`set[0]`) |\n",
    "\n",
    "'''\n",
    "\n",
    "fruits = {\"apple\", \"banana\", \"cherry\"}\n",
    "print(fruits)\n",
    "\n",
    "# {'banana', 'apple', 'cherry'}\n",
    "\n"
   ]
  },
  {
   "cell_type": "code",
   "execution_count": null,
   "id": "c6ab85f3",
   "metadata": {},
   "outputs": [],
   "source": [
    "# Removing Duplicates Automatically\n",
    "nums = {1, 2, 2, 3, 3, 3}\n",
    "print(nums)\n",
    "\n",
    "# {1, 2, 3}\n"
   ]
  },
  {
   "cell_type": "code",
   "execution_count": null,
   "metadata": {},
   "outputs": [],
   "source": [
    "# Creating a Set\n",
    "a = {1, 2, 3}\n",
    "b = set([3, 4, 5])   # from list\n",
    "print(a, b)\n",
    "\n",
    "# {1, 2, 3} {3, 4, 5}\n"
   ]
  },
  {
   "cell_type": "code",
   "execution_count": null,
   "id": "33216b36",
   "metadata": {},
   "outputs": [],
   "source": [
    "# Empty Set Be careful:\n",
    "\n",
    "x = {}       # ❌ this creates an empty *dict*\n",
    "y = set()    # ✅ this creates an empty *set*\n"
   ]
  },
  {
   "cell_type": "code",
   "execution_count": null,
   "metadata": {},
   "outputs": [],
   "source": [
    "# Adding and Removing Items\n",
    "s = {1, 2, 3}\n",
    "s.add(4)\n",
    "s.update([5, 6])   # add multiple items\n",
    "print(s)\n",
    "\n",
    "s.remove(2)        # remove (error if not found)\n",
    "s.discard(10)      # safe remove (no error)\n",
    "print(s)\n",
    "\n",
    "s.clear()          # remove all items\n",
    "print(s)\n",
    "\n"
   ]
  },
  {
   "cell_type": "code",
   "execution_count": null,
   "id": "3f1ea8fc",
   "metadata": {},
   "outputs": [],
   "source": [
    "# Set Operations (Mathematical)\n",
    "a = {1, 2, 3, 4}\n",
    "b = {3, 4, 5, 6}\n",
    "\n",
    "\n",
    "'''\n",
    "| Operation                             | Syntax                         | Result           |                      |\n",
    "| ------------------------------------- | ------------------------------ | ---------------- | -------------------- |\n",
    "| **Union** (combine)                   | `a                             | b`or`a.union(b)` | `{1, 2, 3, 4, 5, 6}` |\n",
    "| **Intersection** (common)             | `a & b` or `a.intersection(b)` | `{3, 4}`         |                      |\n",
    "| **Difference**                        | `a - b`                        | `{1, 2}`         |                      |\n",
    "| **Symmetric Difference** (not common) | `a ^ b`                        | `{1, 2, 5, 6}`   |                      |\n",
    "\n",
    "'''\n"
   ]
  },
  {
   "cell_type": "code",
   "execution_count": null,
   "id": "44c53132",
   "metadata": {},
   "outputs": [],
   "source": [
    "# Membership Test\n",
    "a = {1, 2, 3}\n",
    "print(2 in a)    # True\n",
    "print(5 in a)    # False\n",
    "\n",
    "# Sets are very fast for membership checks — faster than lists."
   ]
  },
  {
   "cell_type": "code",
   "execution_count": null,
   "id": "40108fe1",
   "metadata": {},
   "outputs": [],
   "source": [
    "# Looping Through a Set\n",
    "colors = {\"red\", \"green\", \"blue\"}\n",
    "\n",
    "for color in colors:\n",
    "    print(color)\n",
    "\n",
    "# red\n",
    "# blue\n",
    "# green\n"
   ]
  },
  {
   "cell_type": "code",
   "execution_count": null,
   "id": "310430d8",
   "metadata": {},
   "outputs": [],
   "source": [
    "# Frozen Set (Immutable Set)\n",
    "# If you need an immutable version of a set:\n",
    "\n",
    "fs = frozenset([1, 2, 3])\n",
    "print(fs)\n",
    "# fs.add(4) ❌ TypeError (frozen sets can’t be changed)"
   ]
  },
  {
   "cell_type": "code",
   "execution_count": null,
   "id": "da04677d",
   "metadata": {},
   "outputs": [],
   "source": [
    "'''\n",
    "| Method                                      | Description                          |\n",
    "| ------------------------------------------- | ------------------------------------ |\n",
    "| `add(x)`                                    | Adds an element                      |\n",
    "| `update(iterable)`                          | Adds multiple elements               |\n",
    "| `remove(x)`                                 | Removes element (error if missing)   |\n",
    "| `discard(x)`                                | Removes element (no error)           |\n",
    "| `pop()`                                     | Removes and returns a random element |\n",
    "| `clear()`                                   | Removes all elements                 |\n",
    "| `union()`, `intersection()`, `difference()` | Set math operations                  |\n",
    "| `issubset()` / `issuperset()`               | Check relationships                  |\n",
    "\n",
    "'''"
   ]
  },
  {
   "cell_type": "code",
   "execution_count": null,
   "id": "9fdcad42",
   "metadata": {},
   "outputs": [],
   "source": [
    "# Remove Duplicates from a List\n",
    "nums = [1, 2, 2, 3, 4, 4, 5]\n",
    "unique_nums = list(set(nums))\n",
    "print(unique_nums)\n",
    "\n",
    "\n",
    "# [1, 2, 3, 4, 5]\n"
   ]
  },
  {
   "cell_type": "code",
   "execution_count": null,
   "id": "f48f861d",
   "metadata": {},
   "outputs": [],
   "source": [
    "'''\n",
    "| Concept    | Example                     | Description          | \n",
    "| ---------- | --------------------------- | -------------------- | \n",
    "| Create     | `{1,2,3}` or `set([1,2,3])` | unordered collection | \n",
    "| Unique     | `{1,1,2}` → `{1,2}`         | duplicates removed   | \n",
    "| Add        | `.add()` / `.update()`      | add items            | \n",
    "| Remove     | `.remove()` / `.discard()`  | delete items         | \n",
    "| Operations | `                           | & - ^`               | \n",
    "| Immutable  | `frozenset()`               | can’t modify         | \n",
    "\n",
    "'''"
   ]
  },
  {
   "cell_type": "code",
   "execution_count": null,
   "id": "ceedabd7",
   "metadata": {},
   "outputs": [],
   "source": [
    "# set {} -  {1,2,3,4} - mutable, not ordered, no duplicates\n",
    "iset = {1,3,3,2,4,44}\n",
    "print(iset) # {1, 2, 3, 4, 44}\n",
    "# print(iset.index(3)) #AttributeError: 'set' object has no attribute 'index'\n",
    "\n",
    "my_set = {1, 2, 3}\n",
    "\n",
    "# Add / Remove\n",
    "my_set.add(4)             # Add element\n",
    "my_set.remove(2)          # Remove (error if not found)\n",
    "my_set.discard(5)         # Safe remove (no error)\n",
    "\n",
    "# Set math\n",
    "a = {1, 2, 3}\n",
    "b = {3, 4, 5}\n",
    "union = a | b             # {1, 2, 3, 4, 5}\n",
    "intersection = a & b      # {3}\n",
    "difference = a - b        # {1, 2}\n",
    "symmetric_diff = a ^ b    # {1, 2, 4, 5}\n",
    "\n",
    "# Other\n",
    "length = len(my_set)"
   ]
  }
 ],
 "metadata": {
  "kernelspec": {
   "display_name": "Python 3",
   "language": "python",
   "name": "python3"
  },
  "language_info": {
   "codemirror_mode": {
    "name": "ipython",
    "version": 3
   },
   "file_extension": ".py",
   "mimetype": "text/x-python",
   "name": "python",
   "nbconvert_exporter": "python",
   "pygments_lexer": "ipython3",
   "version": "3.13.0"
  }
 },
 "nbformat": 4,
 "nbformat_minor": 5
}
