{
 "cells": [
  {
   "cell_type": "code",
   "execution_count": null,
   "id": "b6a440a3",
   "metadata": {},
   "outputs": [],
   "source": [
    "'''\n",
    "An exception is an error that occurs during program execution.\n",
    "When an exception happens, Python stops the program unless you handle it.\n",
    "\n",
    "print(10 / 0)\n",
    "ZeroDivisionError: division by zero\n",
    "\n",
    "Without handling, your program crashes.\n",
    "\n",
    "Why Handle Exceptions?\n",
    "To make your program:\n",
    "More robust (doesn’t crash)\n",
    "More user-friendly\n",
    "Easier to debug\n",
    "'''"
   ]
  },
  {
   "cell_type": "code",
   "execution_count": null,
   "id": "674b3bc7",
   "metadata": {},
   "outputs": [],
   "source": [
    "# Basic try–except\n",
    "\n",
    "try:\n",
    "    x = 10 / 0\n",
    "except ZeroDivisionError:\n",
    "    print(\"Cannot divide by zero!\")\n",
    "\n",
    "# Cannot divide by zero!\n",
    "\n",
    "# The code inside try may raise an error.\n",
    "# If that specific error happens, the matching except block runs."
   ]
  },
  {
   "cell_type": "code",
   "execution_count": null,
   "id": "bf9e1ea3",
   "metadata": {},
   "outputs": [],
   "source": [
    "# Handling Multiple Exceptions\n",
    "try:\n",
    "    num = int(input(\"Enter a number: \"))\n",
    "    print(10 / num)\n",
    "except ZeroDivisionError:\n",
    "    print(\"You can’t divide by zero.\")\n",
    "except ValueError:\n",
    "    print(\"Please enter a valid number.\")\n",
    "\n",
    "# Please enter a valid number.\n"
   ]
  },
  {
   "cell_type": "code",
   "execution_count": null,
   "id": "6659c409",
   "metadata": {},
   "outputs": [
    {
     "name": "stdout",
     "output_type": "stream",
     "text": [
      "Something went wrong: name 'risky_code' is not defined\n"
     ]
    }
   ],
   "source": [
    "# Catching All Exceptions\n",
    "# You can use Exception to catch any type of error:\n",
    "try:\n",
    "    risky_code()\n",
    "except Exception as e:\n",
    "    print(\"Something went wrong:\", e)\n",
    "    \n",
    "# Something went wrong: name 'risky_code' is not defined\n",
    "   \n",
    "# Tip: Avoid catching all exceptions unless necessary — it can hide real bugs."
   ]
  },
  {
   "cell_type": "code",
   "execution_count": null,
   "id": "5d2c1c1c",
   "metadata": {},
   "outputs": [],
   "source": [
    "# Using else and finally\n",
    "try:\n",
    "    x = int(input(\"Enter a number: \"))\n",
    "except ValueError:\n",
    "    print(\"Invalid input!\")\n",
    "else:\n",
    "    print(\"You entered:\", x)\n",
    "finally:\n",
    "    print(\"This always runs.\")\n",
    "\n",
    "# Enter a number: 5\n",
    "# You entered: 5\n",
    "# This always runs.\n",
    "\n",
    "'''\n",
    "| Block     | Runs When                     |\n",
    "| --------- | ----------------------------- |\n",
    "| `try`     | Always attempted              |\n",
    "| `except`  | Runs if there’s an error      |\n",
    "| `else`    | Runs if **no** error occurs   |\n",
    "| `finally` | Runs **always**, error or not |\n",
    "\n",
    "'''"
   ]
  },
  {
   "cell_type": "code",
   "execution_count": null,
   "id": "100dff5d",
   "metadata": {},
   "outputs": [],
   "source": [
    "# Raising Exceptions Manually\n",
    "# You can raise an exception when something invalid happens:\n",
    "\n",
    "age = -5\n",
    "if age < 0:\n",
    "    raise ValueError(\"Age cannot be negative\")\n",
    "\n",
    "# ValueError: Age cannot be negative\n"
   ]
  },
  {
   "cell_type": "code",
   "execution_count": null,
   "id": "2078b6a1",
   "metadata": {},
   "outputs": [],
   "source": [
    "# Custom Exceptions\n",
    "# You can define your own exception classes:\n",
    "\n",
    "class NegativeNumberError(Exception):\n",
    "    pass\n",
    "\n",
    "def check_number(n):\n",
    "    if n < 0:\n",
    "        raise NegativeNumberError(\"Negative numbers are not allowed\")\n",
    "    else:\n",
    "        print(\"Number is valid:\", n)\n",
    "\n",
    "try:\n",
    "    check_number(-10)\n",
    "except NegativeNumberError as e:\n",
    "    print(e)\n",
    "\n",
    "# Negative numbers are not allowed\n"
   ]
  },
  {
   "cell_type": "code",
   "execution_count": null,
   "id": "59db0424",
   "metadata": {},
   "outputs": [],
   "source": [
    "'''\n",
    "| Exception           | Description                 |\n",
    "| ------------------- | --------------------------- |\n",
    "| `ZeroDivisionError` | Dividing by zero            |\n",
    "| `ValueError`        | Wrong type of value         |\n",
    "| `TypeError`         | Wrong data type used        |\n",
    "| `IndexError`        | Index out of range          |\n",
    "| `KeyError`          | Missing dictionary key      |\n",
    "| `FileNotFoundError` | File doesn’t exist          |\n",
    "| `ImportError`       | Module can’t be imported    |\n",
    "| `AttributeError`    | Missing attribute or method |\n",
    "| `RuntimeError`      | Generic runtime error       |\n",
    "\n",
    "'''"
   ]
  },
  {
   "cell_type": "code",
   "execution_count": null,
   "id": "7a2702ca",
   "metadata": {},
   "outputs": [],
   "source": [
    "# Handling File Errors\n",
    "\n",
    "try:\n",
    "    with open(\"data.txt\") as f:\n",
    "        content = f.read()\n",
    "        print(content)\n",
    "except FileNotFoundError:\n",
    "    print(\"File not found!\")\n",
    "\n",
    "# File not found!\n",
    "\n",
    "'''\n",
    "| Keyword     | Description           | Example                  |\n",
    "| ----------- | --------------------- | ------------------------ |\n",
    "| `try`       | Code that might fail  | `try: risky()`           |\n",
    "| `except`    | Handle specific error | `except ValueError:`     |\n",
    "| `else`      | Runs if no error      | `else: print(\"OK\")`      |\n",
    "| `finally`   | Always runs           | `finally: cleanup()`     |\n",
    "| `raise`     | Throw your own error  | `raise ValueError()`     |\n",
    "| `Exception` | Catch-all base class  | `except Exception as e:` |\n",
    "\n",
    "'''\n",
    "# show a real-world example (like handling network or file read exceptions in a DevOps script)?"
   ]
  },
  {
   "cell_type": "code",
   "execution_count": null,
   "id": "023051ca",
   "metadata": {},
   "outputs": [],
   "source": [
    "try:\n",
    "    a = int(input(\"Hey, Enter a number: \"))\n",
    "    print(a)\n",
    "\n",
    "except ValueError as v:\n",
    "    print(\"Heyyyy\")\n",
    "    print(v)\n",
    "    \n",
    "except Exception as e:\n",
    "    print(e) \n",
    "\n",
    "print(\"Thank You\")"
   ]
  },
  {
   "cell_type": "code",
   "execution_count": null,
   "id": "5d380839",
   "metadata": {},
   "outputs": [],
   "source": [
    "a = int(input(\"Enter a number: \"))\n",
    "b = int(input(\"Enter second number: \"))\n",
    "\n",
    "if(b == 0):\n",
    "    raise ZeroDivisionError(\"Hey our program is not meant to divide numbers by zero\")\n",
    "else:\n",
    "    print(f\"The division a/b is {a/b}\")"
   ]
  },
  {
   "cell_type": "code",
   "execution_count": null,
   "id": "9658b384",
   "metadata": {},
   "outputs": [],
   "source": [
    "try:\n",
    "    a = int(input(\"Hey, Enter a number: \"))\n",
    "    print(a)\n",
    "except Exception as e:\n",
    "    print(e) \n",
    "else:\n",
    "    print(\"I am inside else\")"
   ]
  },
  {
   "cell_type": "code",
   "execution_count": null,
   "id": "b57780d5",
   "metadata": {},
   "outputs": [],
   "source": [
    "try:\n",
    "    \n",
    "# Define the file path\n",
    "   file_path = \"example.txt\"\n",
    "   \n",
    "   # Read lines from the file\n",
    "   with open(file_path, \"r\") as file:\n",
    "       lines = file.readlines()\n",
    "   \n",
    "   # Modify the lines (example: add a prefix)\n",
    "   modified_lines = [\"Modified: \" + line for line in lines]\n",
    "   \n",
    "   # Write back to the file\n",
    "   with open(file_path, \"w\") as file:\n",
    "       file.writelines(modified_lines)\n",
    "   \n",
    "   print(\"File has been updated successfully.\")\n",
    "except ValueError:\n",
    "    print (\"ram comment enter valid file path\")"
   ]
  }
 ],
 "metadata": {
  "kernelspec": {
   "display_name": "Python 3",
   "language": "python",
   "name": "python3"
  },
  "language_info": {
   "codemirror_mode": {
    "name": "ipython",
    "version": 3
   },
   "file_extension": ".py",
   "mimetype": "text/x-python",
   "name": "python",
   "nbconvert_exporter": "python",
   "pygments_lexer": "ipython3",
   "version": "3.13.0"
  }
 },
 "nbformat": 4,
 "nbformat_minor": 5
}
