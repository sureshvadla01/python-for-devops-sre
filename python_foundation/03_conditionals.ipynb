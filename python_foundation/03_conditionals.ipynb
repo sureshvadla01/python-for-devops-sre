{
 "cells": [
  {
   "cell_type": "code",
   "execution_count": null,
   "id": "a5c92f56",
   "metadata": {},
   "outputs": [],
   "source": [
    "'''\n",
    "e.g., “if the user is logged in, show the dashboard, else show login.\n",
    "if condition:\n",
    "    # code runs if condition is True\n",
    "elif another_condition:\n",
    "    # runs if the first is False but this one is True\n",
    "else:\n",
    "    # runs if all above conditions are False\n",
    "'''\n"
   ]
  },
  {
   "cell_type": "code",
   "execution_count": null,
   "id": "55289739",
   "metadata": {},
   "outputs": [],
   "source": [
    "# if\n",
    "x = 10\n",
    "if x > 5:\n",
    "    print(\"x is greater than 5\")\n"
   ]
  },
  {
   "cell_type": "code",
   "execution_count": null,
   "id": "0e595c2f",
   "metadata": {},
   "outputs": [],
   "source": [
    "#if–else\n",
    "age = 16\n",
    "if age >= 18:\n",
    "    print(\"You can vote\")\n",
    "else:\n",
    "    print(\"You cannot vote\")\n"
   ]
  },
  {
   "cell_type": "code",
   "execution_count": null,
   "id": "dbd83f7b",
   "metadata": {},
   "outputs": [],
   "source": [
    "#if–elif–else Chain\n",
    "marks = 85\n",
    "if marks >= 90:\n",
    "    grade = \"A\"\n",
    "elif marks >= 75:\n",
    "    grade = \"B\"\n",
    "elif marks >= 60:\n",
    "    grade = \"C\"\n",
    "else:\n",
    "    grade = \"D\"\n",
    "\n",
    "print(\"Grade:\", grade)\n"
   ]
  },
  {
   "cell_type": "code",
   "execution_count": null,
   "id": "b1801b89",
   "metadata": {},
   "outputs": [],
   "source": [
    "x = 7\n",
    "if x > 5 and x < 10:\n",
    "    print(\"x is between 5 and 10\")\n"
   ]
  },
  {
   "cell_type": "code",
   "execution_count": 2,
   "id": "aea24dd3",
   "metadata": {},
   "outputs": [
    {
     "name": "stdout",
     "output_type": "stream",
     "text": [
      "Positive odd\n"
     ]
    }
   ],
   "source": [
    "#Nested if\n",
    "x = 15\n",
    "if x > 0:\n",
    "    if x % 2 == 0:\n",
    "        print(\"Positive even\")\n",
    "    else:\n",
    "        print(\"Positive odd\")\n"
   ]
  },
  {
   "cell_type": "code",
   "execution_count": 4,
   "id": "13840205",
   "metadata": {},
   "outputs": [
    {
     "name": "stdout",
     "output_type": "stream",
     "text": [
      "Minor\n"
     ]
    }
   ],
   "source": [
    "age = 17 \n",
    "status = \"Adult\" if age >= 18 else \"Minor\"\n",
    "print(status)\n",
    "\n",
    "if age >= 18:\n",
    "    status = \"Adult\"\n",
    "else:\n",
    "    status = \"Minor\"\n"
   ]
  },
  {
   "cell_type": "code",
   "execution_count": null,
   "id": "9622ce07",
   "metadata": {},
   "outputs": [],
   "source": [
    "'''\n",
    "Python considers these as False in conditionals:\n",
    "False\n",
    "None\n",
    "0 (zero)\n",
    "\"\" (empty string)\n",
    "[], {}, ()\n",
    "Everything else is True.\n",
    "'''\n",
    "\n",
    "if []:\n",
    "    print(\"True block\")\n",
    "else:\n",
    "    print(\"False block\")  # runs\n"
   ]
  }
 ],
 "metadata": {
  "kernelspec": {
   "display_name": "Python 3",
   "language": "python",
   "name": "python3"
  },
  "language_info": {
   "codemirror_mode": {
    "name": "ipython",
    "version": 3
   },
   "file_extension": ".py",
   "mimetype": "text/x-python",
   "name": "python",
   "nbconvert_exporter": "python",
   "pygments_lexer": "ipython3",
   "version": "3.13.0"
  }
 },
 "nbformat": 4,
 "nbformat_minor": 5
}
