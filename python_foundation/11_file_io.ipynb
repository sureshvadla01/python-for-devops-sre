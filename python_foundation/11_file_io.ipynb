{
 "cells": [
  {
   "cell_type": "code",
   "execution_count": null,
   "id": "c4ec138b",
   "metadata": {},
   "outputs": [],
   "source": [
    "'''\n",
    "File operations:\n",
    "File operations let your program read from, write to, append, and manage files stored on disk.\n",
    "Python provides built-in functions to handle this easily using the open() function.\n",
    "\n",
    "file = open(\"filename\", mode)\n",
    "\n",
    "| Mode  | Meaning              | Description                        |\n",
    "| ----- | -------------------- | ---------------------------------- |\n",
    "| `'r'` | **Read**             | Opens file for reading (default)   |\n",
    "| `'w'` | **Write**            | Overwrites file or creates new one |\n",
    "| `'a'` | **Append**           | Adds to end of file                |\n",
    "| `'x'` | **Exclusive create** | Fails if file exists               |\n",
    "| `'b'` | **Binary mode**      | e.g., `'rb'`, `'wb'` for images    |\n",
    "| `'t'` | **Text mode**        | Default mode                       |\n",
    "\n",
    "'''"
   ]
  },
  {
   "cell_type": "code",
   "execution_count": null,
   "id": "88c3420d",
   "metadata": {},
   "outputs": [],
   "source": [
    "# Reading a File\n",
    "file = open(\"example.txt\", \"r\")\n",
    "content = file.read()\n",
    "print(content)\n",
    "file.close()\n",
    "\n",
    "# Hello, world!\n",
    "# Python is awesome."
   ]
  },
  {
   "cell_type": "code",
   "execution_count": null,
   "id": "c8b6edef",
   "metadata": {},
   "outputs": [],
   "source": [
    "# Writing to a File\n",
    "file = open(\"example.txt\", \"w\")\n",
    "file.write(\"Hello, world!\\n\")\n",
    "file.write(\"Python is awesome.\")\n",
    "file.close()\n",
    "\n",
    "# Creates (or overwrites) a file named example.txt."
   ]
  },
  {
   "cell_type": "code",
   "execution_count": null,
   "id": "7825e899",
   "metadata": {},
   "outputs": [],
   "source": [
    "# Important — Always Close the File\n",
    "# Use file.close() to free system resources —\n",
    "# or better yet, use with (automatic close)."
   ]
  },
  {
   "cell_type": "code",
   "execution_count": null,
   "id": "5794ef5d",
   "metadata": {},
   "outputs": [],
   "source": [
    "# Using with (Recommended Way)\n",
    "with open(\"example.txt\", \"r\") as file:\n",
    "    data = file.read()\n",
    "    print(data)\n",
    "\n",
    "# Automatically closes the file, even if an error occurs."
   ]
  },
  {
   "cell_type": "code",
   "execution_count": null,
   "id": "0a1b4034",
   "metadata": {},
   "outputs": [],
   "source": [
    "# Reading Line by Line\n",
    "with open(\"example.txt\", \"r\") as f:\n",
    "    for line in f:\n",
    "        print(line.strip())\n",
    "\n",
    "# Hello, world!\n",
    "# Python is awesome.\n"
   ]
  },
  {
   "cell_type": "code",
   "execution_count": null,
   "id": "c7a9b25f",
   "metadata": {},
   "outputs": [],
   "source": [
    "# Read Methods\n",
    "\n",
    "'''\n",
    "| Method        | Description               | Example         |\n",
    "| ------------- | ------------------------- | --------------- |\n",
    "| `read()`      | Reads whole file          | `f.read()`      |\n",
    "| `readline()`  | Reads one line            | `f.readline()`  |\n",
    "| `readlines()` | Returns list of all lines | `f.readlines()` |\n",
    "'''\n",
    "\n",
    "with open(\"example.txt\", \"r\") as f:\n",
    "    lines = f.readlines()\n",
    "print(lines)\n",
    "\n",
    "# ['Hello, world!\\n', 'Python is awesome.']\n"
   ]
  },
  {
   "cell_type": "code",
   "execution_count": null,
   "id": "6a2eb1c0",
   "metadata": {},
   "outputs": [],
   "source": [
    "# Append to a File\n",
    "with open(\"example.txt\", \"a\") as f:\n",
    "    f.write(\"\\nAppending new line.\")\n",
    "\n",
    "# Adds text at the end without overwriting."
   ]
  },
  {
   "cell_type": "code",
   "execution_count": null,
   "id": "621a517d",
   "metadata": {},
   "outputs": [],
   "source": [
    "# Write List to File\n",
    "\n",
    "lines = [\"Line 1\\n\", \"Line 2\\n\", \"Line 3\\n\"]\n",
    "\n",
    "with open(\"output.txt\", \"w\") as f:\n",
    "    f.writelines(lines)\n"
   ]
  },
  {
   "cell_type": "code",
   "execution_count": null,
   "id": "5e2072f5",
   "metadata": {},
   "outputs": [],
   "source": [
    "# Read/Write Together\n",
    "# You can open in read/write mode 'r+' or write/read 'w+':\n",
    "\n",
    "with open(\"example.txt\", \"r+\") as f:\n",
    "    data = f.read()\n",
    "    f.write(\"\\nNew line after reading.\")\n"
   ]
  },
  {
   "cell_type": "code",
   "execution_count": null,
   "id": "9cb70d97",
   "metadata": {},
   "outputs": [],
   "source": [
    "# Check if File Exists\n",
    "import os\n",
    "\n",
    "if os.path.exists(\"example.txt\"):\n",
    "    print(\"File exists!\")\n",
    "else:\n",
    "    print(\"File not found!\")\n"
   ]
  },
  {
   "cell_type": "code",
   "execution_count": null,
   "id": "a2f007e6",
   "metadata": {},
   "outputs": [],
   "source": [
    "# Deleting a File\n",
    "import os\n",
    "\n",
    "os.remove(\"example.txt\")\n",
    "print(\"File deleted!\")\n"
   ]
  },
  {
   "cell_type": "code",
   "execution_count": null,
   "id": "b12cad05",
   "metadata": {},
   "outputs": [],
   "source": [
    "# Binary Mode (for Images or PDFs)\n",
    "with open(\"image.jpg\", \"rb\") as f:\n",
    "    content = f.read()\n",
    "\n",
    "with open(\"copy.jpg\", \"wb\") as f:\n",
    "    f.write(content)\n",
    "\n",
    "# Reads and writes in binary — useful for non-text files."
   ]
  },
  {
   "cell_type": "code",
   "execution_count": null,
   "id": "8f929b59",
   "metadata": {},
   "outputs": [],
   "source": [
    "# Handling Errors (Try–Except)\n",
    "try:\n",
    "    with open(\"missing.txt\", \"r\") as f:\n",
    "        print(f.read())\n",
    "except FileNotFoundError:\n",
    "    print(\"File not found!\")\n",
    "\n",
    "# File not found!\n"
   ]
  },
  {
   "cell_type": "code",
   "execution_count": null,
   "id": "c23e3b11",
   "metadata": {},
   "outputs": [],
   "source": [
    "'''\n",
    "| Operation         | Mode           | Example                 |\n",
    "| ----------------- | -------------- | ----------------------- |\n",
    "| Read              | `'r'`          | `open(\"file.txt\", \"r\")` |\n",
    "| Write (overwrite) | `'w'`          | `open(\"file.txt\", \"w\")` |\n",
    "| Append            | `'a'`          | `open(\"file.txt\", \"a\")` |\n",
    "| Binary            | `'rb'`, `'wb'` | read/write images, PDFs |\n",
    "| Check existence   | —              | `os.path.exists()`      |\n",
    "| Delete            | —              | `os.remove()`           |\n",
    "| Safe open         | —              | `with open(...) as f:`  |\n",
    "\n",
    "'''"
   ]
  }
 ],
 "metadata": {
  "language_info": {
   "name": "python"
  }
 },
 "nbformat": 4,
 "nbformat_minor": 5
}
