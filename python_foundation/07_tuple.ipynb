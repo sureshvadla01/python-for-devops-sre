{
 "cells": [
  {
   "cell_type": "code",
   "execution_count": null,
   "id": "e53a4830",
   "metadata": {},
   "outputs": [],
   "source": [
    "'''\n",
    "A tuple is an ordered, immutable (unchangeable) collection of items.\n",
    "It’s very similar to a list, except:\n",
    "You can’t modify a tuple after creating it.\n",
    "It’s defined with parentheses (), not square brackets [].\n",
    "'''\n",
    "\n",
    "# my_tuple = (item1, item2, item3)\n",
    "\n",
    "fruits = (\"apple\", \"banana\", \"cherry\")\n",
    "\n",
    "('apple', 'banana', 'cherry')\n"
   ]
  },
  {
   "cell_type": "code",
   "execution_count": null,
   "id": "94f170ff",
   "metadata": {},
   "outputs": [],
   "source": [
    "# Creating Tuples\n",
    "numbers = (1, 2, 3, 4)\n",
    "mixed = (10, \"hello\", True, 3.14)\n"
   ]
  },
  {
   "cell_type": "code",
   "execution_count": null,
   "id": "4eccb87a",
   "metadata": {},
   "outputs": [],
   "source": [
    "# Single-Element Tuples\n",
    "# When you create a tuple with only one item, you must add a comma — otherwise Python treats it as a normal value.\n",
    "\n",
    "a = (5)\n",
    "print(type(a))   # <class 'int'>\n",
    "\n",
    "b = (5,)\n",
    "print(type(b))   # <class 'tuple'>\n"
   ]
  },
  {
   "cell_type": "code",
   "execution_count": null,
   "id": "74f9103c",
   "metadata": {},
   "outputs": [],
   "source": [
    "# Accessing Elements\n",
    "# Just like lists — tuples use zero-based indexing.\n",
    "\n",
    "fruits = (\"apple\", \"banana\", \"cherry\")\n",
    "print(fruits[0])   # apple\n",
    "print(fruits[-1])  # cherry"
   ]
  },
  {
   "cell_type": "code",
   "execution_count": null,
   "id": "113294eb",
   "metadata": {},
   "outputs": [],
   "source": [
    "# Slicing\n",
    "nums = (10, 20, 30, 40, 50)\n",
    "print(nums[1:4])   # (20, 30, 40)\n"
   ]
  },
  {
   "cell_type": "code",
   "execution_count": null,
   "id": "95a3ff24",
   "metadata": {},
   "outputs": [],
   "source": [
    "# Tuples Are Immutable\n",
    "# Once created, you can’t add, remove, or modify elements.\n",
    "nums = (1, 2, 3)\n",
    "nums[0] = 100   # ❌ TypeError\n"
   ]
  },
  {
   "cell_type": "code",
   "execution_count": null,
   "id": "8023ca07",
   "metadata": {},
   "outputs": [],
   "source": [
    "# Workaround (Convert to List) If you need to change a tuple:\n",
    "nums = (1, 2, 3)\n",
    "temp = list(nums)\n",
    "temp.append(4)\n",
    "nums = tuple(temp)\n",
    "print(nums)\n",
    "\n",
    "# (1, 2, 3, 4)\n"
   ]
  },
  {
   "cell_type": "code",
   "execution_count": null,
   "id": "4b38c744",
   "metadata": {},
   "outputs": [],
   "source": [
    "# Looping Through a Tuple\n",
    "\n",
    "colors = (\"red\", \"green\", \"blue\")\n",
    "\n",
    "for color in colors:\n",
    "    print(color)\n",
    "\n",
    "# red\n",
    "# green\n",
    "# blue\n"
   ]
  },
  {
   "cell_type": "code",
   "execution_count": null,
   "id": "1750ff44",
   "metadata": {},
   "outputs": [],
   "source": [
    "# Tuple Unpacking\n",
    "# You can assign multiple variables at once:\n",
    "person = (\"Alice\", 25, \"New York\")\n",
    "name, age, city = person\n",
    "print(name)\n",
    "print(age)\n",
    "print(city)\n",
    "\n",
    "# Alice\n",
    "# 25\n",
    "# New York\n"
   ]
  },
  {
   "cell_type": "code",
   "execution_count": null,
   "id": "6ccc3529",
   "metadata": {},
   "outputs": [],
   "source": [
    "# Nested Tuples\n",
    "matrix = ((1, 2), (3, 4), (5, 6))\n",
    "print(matrix[1][0])  # 3\n"
   ]
  },
  {
   "cell_type": "code",
   "execution_count": null,
   "id": "1743dbf4",
   "metadata": {},
   "outputs": [],
   "source": [
    "'''\n",
    "| Function / Method | Description                | Example            |\n",
    "| ----------------- | -------------------------- | ------------------ |\n",
    "| `len()`           | Number of elements         | `len(nums)`        |\n",
    "| `count(x)`        | Count occurrences of value | `t.count(2)`       |\n",
    "| `index(x)`        | Find index of value        | `t.index(\"apple\")` |\n",
    "| `min()` / `max()` | Smallest / largest value   | `min((1,2,3))`     |\n",
    "| `sum()`           | Total of numeric items     | `sum((1,2,3))`     |\n",
    "\n",
    "'''"
   ]
  },
  {
   "cell_type": "code",
   "execution_count": null,
   "id": "f03c1a0a",
   "metadata": {},
   "outputs": [],
   "source": [
    "# Tuple vs List\n",
    "'''\n",
    "| Feature                        | List         | Tuple      |\n",
    "| ------------------------------ | ------------ | ---------- |\n",
    "| Brackets                       | `[]`         | `()`       |\n",
    "| Mutable                        | ✅ Yes        | ❌ No       |\n",
    "| Faster                         | ❌ Slower     | ✅ Faster   |\n",
    "| Hashable (can use as dict key) | ❌ No         | ✅ Yes      |\n",
    "| Common Use                     | Dynamic data | Fixed data |\n",
    "\n",
    "'''"
   ]
  },
  {
   "cell_type": "code",
   "execution_count": null,
   "id": "d1d306f2",
   "metadata": {},
   "outputs": [],
   "source": [
    "# When to Use Tuples\n",
    "# When you want data that shouldn’t change (e.g., coordinates, config constants).\n",
    "# When you need to use the data as a dictionary key or in a set.\n",
    "# For performance — tuples are smaller and faster than lists.\n",
    "\n",
    "'''\n",
    "| Concept   | Example                | Description                   |\n",
    "| --------- | ---------------------- | ----------------------------- |\n",
    "| Create    | `t = (1,2,3)`          | Ordered, immutable collection |\n",
    "| Access    | `t[0]`                 | Get value                     |\n",
    "| Slice     | `t[1:3]`               | Subset                        |\n",
    "| Unpack    | `a,b = (1,2)`          | Assign multiple               |\n",
    "| Methods   | `.count()`, `.index()` | Basic lookups                 |\n",
    "| Immutable | Can’t change values    | Safer for constants           |\n",
    "\n",
    "'''"
   ]
  },
  {
   "cell_type": "code",
   "execution_count": 1,
   "id": "2e3a8075",
   "metadata": {},
   "outputs": [
    {
     "name": "stdout",
     "output_type": "stream",
     "text": [
      "(1, 3, 3, 2, 4, 44)\n",
      "1\n"
     ]
    }
   ],
   "source": [
    "# tuple () - (1,2,3,4) - not mutable, ordered, duplicates\n",
    "ituple = (1,3,3,2,4,44)\n",
    "print(ituple) #(1, 3, 3, 2, 4, 44)\n",
    "print(ituple.index(3)) # 1\n",
    "\n",
    "\n",
    "my_tuple = (1, 2, 3, 2)\n",
    "\n",
    "# Access\n",
    "item = my_tuple[0]        # Access by index\n",
    "slice = my_tuple[:2]      # Slice\n",
    "\n",
    "# Count / Index\n",
    "count = my_tuple.count(2) # Count value\n",
    "index = my_tuple.index(3) # Find index\n",
    "\n",
    "# Convert to list (if you want to modify)\n",
    "temp_list = list(my_tuple)\n"
   ]
  }
 ],
 "metadata": {
  "kernelspec": {
   "display_name": "Python 3",
   "language": "python",
   "name": "python3"
  },
  "language_info": {
   "codemirror_mode": {
    "name": "ipython",
    "version": 3
   },
   "file_extension": ".py",
   "mimetype": "text/x-python",
   "name": "python",
   "nbconvert_exporter": "python",
   "pygments_lexer": "ipython3",
   "version": "3.13.0"
  }
 },
 "nbformat": 4,
 "nbformat_minor": 5
}
