{
 "cells": [
  {
   "cell_type": "code",
   "execution_count": null,
   "id": "68073a74",
   "metadata": {},
   "outputs": [],
   "source": [
    "# whole number =  0 1 2 3 4 5 \n",
    "# natual numbers = 1 2 3 4 5 \n",
    "# interger = -1 -2 0 1 2 \n",
    "# Rational Numbers = 1/2 (ℚ): Numbers that can be expressed as a fraction (p/q), where p and q are integers and q ≠ 0. Example: 1/2, -3/4, 5.\n",
    "# Irrational Numbers: π, √2.  Numbers that cannot be expressed as a fraction (they have non-repeating, non-terminating decimals). Example: π, √2.\n",
    "# Real Numbers (ℝ): All rational and irrational numbers.\n",
    "price = 10 #integer(a whole number without a decimal point)\n",
    "rating = 4.934 #float(a number with a decimal point)"
   ]
  },
  {
   "cell_type": "code",
   "execution_count": null,
   "id": "01b9d3ee",
   "metadata": {},
   "outputs": [],
   "source": [
    "#int\n",
    "\n",
    "my_int=6\n",
    "print(f\"my int number is {my_int}\")"
   ]
  },
  {
   "cell_type": "code",
   "execution_count": null,
   "id": "a9ca0199",
   "metadata": {},
   "outputs": [],
   "source": [
    "# Add two numbers\n",
    "a = 5\n",
    "b = 3\n",
    "result = a + b\n",
    "print(result)  # Output: 8"
   ]
  },
  {
   "cell_type": "code",
   "execution_count": null,
   "id": "eeef29dc",
   "metadata": {},
   "outputs": [],
   "source": [
    "#round\n",
    "#round() is used to round a number to a specified number of decimal places (or to the nearest integer if none is given).\n",
    "# round(number, ndigits)\n",
    "\n",
    "x = 3.14159\n",
    "print(round(x))\n",
    "\n",
    "x = 3.14159\n",
    "print(round(x, 2))\n",
    "\n",
    "print(round(2.718, 2))  # 2.72\n",
    "print(round(2.714, 2))  # 2.71\n",
    "\n",
    "#If you pass a negative ndigits, it rounds to tens, hundreds, etc.\n",
    "print(round(1234, -1))  # 1230\n",
    "print(round(1234, -2))  # 1200\n",
    "\n",
    "# round() uses “banker’s rounding” for halves (even rounding):\n",
    "print(round(2.5))  # 2\n",
    "print(round(3.5))  # 4\n",
    "\n",
    "price = 19.987\n",
    "tax = round(price * 0.07, 2)\n",
    "total = round(price + tax, 2)\n",
    "print(total)\n",
    "\n",
    "\n",
    "#round(), math.floor(), and math.ceil()\n"
   ]
  },
  {
   "cell_type": "code",
   "execution_count": null,
   "id": "834264d6",
   "metadata": {},
   "outputs": [],
   "source": [
    "#math.floor()\n",
    "# Always rounds down to the nearest lower integer (toward negative infinity).\n",
    "# import math\n",
    "# math.floor(number)\n",
    "\n",
    "import math\n",
    "\n",
    "print(math.floor(3.9))   # 3\n",
    "print(math.floor(3.1))   # 3\n",
    "print(math.floor(-3.1))  # -4 (goes down)\n",
    "\n",
    "# math.ceil()\n",
    "# Always rounds up to the nearest higher integer (toward positive infinity).\n",
    "import math\n",
    "\n",
    "print(math.ceil(3.1))   # 4\n",
    "print(math.ceil(3.9))   # 4\n",
    "print(math.ceil(-3.1))  # -3 (goes up)\n",
    "\n",
    "import math\n",
    "nums = [3.2, 3.8, -3.2, -3.8]\n",
    "for n in nums:\n",
    "    print(f\"{n:5} → round={round(n):2}, floor={math.floor(n):2}, ceil={math.ceil(n):2}\")\n",
    "\n"
   ]
  },
  {
   "cell_type": "code",
   "execution_count": null,
   "id": "e37f82d0",
   "metadata": {},
   "outputs": [],
   "source": [
    "#float()\n",
    "# float() is used to convert a value (like a string or integer) into a floating-point number (a number with decimals).\n",
    "# float(value)\n",
    "\n",
    "x = 10\n",
    "y = float(x)\n",
    "print(y)\n",
    "\n",
    "price = \"19.99\"\n",
    "num = float(price)\n",
    "print(num)\n",
    "\n",
    "x = float(\"1e3\") #10³ = 1000.0.\n",
    "print(x)\n",
    "\n"
   ]
  },
  {
   "cell_type": "code",
   "execution_count": null,
   "id": "1156f4d2",
   "metadata": {},
   "outputs": [],
   "source": [
    "#range(start, stop, step)\n",
    "#start (optional) – the beginning of the sequence (default is 0)\n",
    "#stop – the end of the sequence (not included!)\n",
    "#step (optional) – the difference between each number (default is 1)\n",
    "for i in range(5):\n",
    "    print(i)\n",
    "    \n",
    "for i in range(5):\n",
    "    print(i)\n",
    "#Output: 0 1 2 3 4\n",
    "\n",
    "for i in range(1, 6):\n",
    "    print(i)\n",
    "#Output: 1 2 3 4 5\n",
    "\n",
    "for i in range(0, 11, 2):\n",
    "    print(i)\n",
    "\n",
    "#Output: 0 2 4 6 8 10\n",
    "\n",
    "for i in range(1, 11, 2):\n",
    "    print(i)\n",
    "#Output: 1 3 5 7 9\n",
    "\n",
    "#countdown\n",
    "for i in range(10, 0, -1):\n",
    "    print(i)\n",
    "    \n",
    "#Output: 10 9 8 7 6 5 4 3 2 1\n"
   ]
  },
  {
   "cell_type": "code",
   "execution_count": null,
   "id": "b882de35",
   "metadata": {},
   "outputs": [],
   "source": [
    "# arithematic operations\n",
    "x = 10\n",
    "y = 5\n",
    "\n",
    "print(x+y)\n",
    "print(x-y) #5\n",
    "print(x*y)\n",
    "print(x**y) # 10 to the power of 5 → 10 * 10 * 10 * 10 * 10 = 100000\n",
    "pow(2,3) #8\n",
    "print(x/y) # 2.0\n",
    "print(x//y) #2   # 10 divided by 5 = 2.0 → floor division gives 2 (as an integer)\n",
    "print(x%y) #0 # reminder \n",
    "\n",
    "print(sum([1,3,4])) # 8\n",
    "print(min(1,3,4)) #1 \n",
    "print(max(1,3,4)) #4"
   ]
  },
  {
   "cell_type": "code",
   "execution_count": null,
   "id": "108f46eb",
   "metadata": {},
   "outputs": [],
   "source": [
    "# abs() | Absolute value → \n",
    "print(abs(-5)) #5"
   ]
  },
  {
   "cell_type": "code",
   "execution_count": null,
   "id": "dadb367d",
   "metadata": {},
   "outputs": [],
   "source": [
    "# Type Conversion\n",
    "\n",
    "# str() | Converts to string\n",
    "# bool() | Converts to boolean\n",
    "# list() / tuple() / set() | Converts to respective types"
   ]
  }
 ],
 "metadata": {
  "kernelspec": {
   "display_name": "Python 3",
   "language": "python",
   "name": "python3"
  },
  "language_info": {
   "codemirror_mode": {
    "name": "ipython",
    "version": 3
   },
   "file_extension": ".py",
   "mimetype": "text/x-python",
   "name": "python",
   "nbconvert_exporter": "python",
   "pygments_lexer": "ipython3",
   "version": "3.13.0"
  }
 },
 "nbformat": 4,
 "nbformat_minor": 5
}
