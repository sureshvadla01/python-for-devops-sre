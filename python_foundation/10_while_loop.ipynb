{
 "cells": [
  {
   "cell_type": "code",
   "execution_count": null,
   "id": "dc49de58",
   "metadata": {},
   "outputs": [],
   "source": [
    "'''\n",
    "A while loop runs a block of code as long as a condition remains True.\n",
    "It’s used when you don’t know exactly how many times you need to loop.\n",
    "\n",
    "while condition:\n",
    "    # code to run\n",
    "\n",
    "The condition is checked before each iteration.\n",
    "When it becomes False, the loop stops.\n",
    "'''"
   ]
  },
  {
   "cell_type": "code",
   "execution_count": null,
   "id": "17218690",
   "metadata": {},
   "outputs": [],
   "source": [
    "# Basic While Loop\n",
    "i = 1\n",
    "while i <= 5:\n",
    "    print(i)\n",
    "    i += 1\n",
    "\n",
    "# 1\n",
    "# 2\n",
    "# 3\n",
    "# 4\n",
    "# 5\n",
    "\n",
    "# Explanation:\n",
    "# Starts with i = 1.\n",
    "# Keeps looping while i <= 5.\n",
    "# Stops when i becomes 6."
   ]
  },
  {
   "cell_type": "code",
   "execution_count": null,
   "id": "c582a5c4",
   "metadata": {},
   "outputs": [],
   "source": [
    "# Infinite \n",
    "# Be careful — if you forget to update the variable, it can run forever!\n",
    "\n",
    "i = 1\n",
    "while i <= 5:\n",
    "    print(i)   # ❌ Infinite loop (i never changes)\n",
    "\n",
    "# Always ensure the condition will eventually become False."
   ]
  },
  {
   "cell_type": "code",
   "execution_count": null,
   "id": "43894976",
   "metadata": {},
   "outputs": [],
   "source": [
    "# Using break\n",
    "# You can stop a while loop early with break:\n",
    "i = 1\n",
    "while True:     # infinite loop\n",
    "    print(i)\n",
    "    if i == 3:\n",
    "        break\n",
    "    i += 1\n",
    "\n",
    "# 1\n",
    "# 2\n",
    "# 3\n"
   ]
  },
  {
   "cell_type": "code",
   "execution_count": null,
   "id": "26f71b99",
   "metadata": {},
   "outputs": [],
   "source": [
    "# Using continue\n",
    "# continue skips the rest of the loop and goes back to the condition check.\n",
    "\n",
    "i = 0\n",
    "while i < 5:\n",
    "    i += 1\n",
    "    if i == 3:\n",
    "        continue\n",
    "    print(i)\n",
    "\n",
    "# 1\n",
    "# 2\n",
    "# 4\n",
    "# 5\n"
   ]
  },
  {
   "cell_type": "code",
   "execution_count": null,
   "id": "48a1dc30",
   "metadata": {},
   "outputs": [],
   "source": [
    "# While Loop with Else\n",
    "i = 1\n",
    "while i <= 3:\n",
    "    print(i)\n",
    "    i += 1\n",
    "else:\n",
    "    print(\"Loop finished\")\n",
    "\n",
    "# output\n",
    "# 1\n",
    "# 2\n",
    "# 3\n",
    "# Loop finished\n",
    "# If a break happens, else won’t run.\n"
   ]
  },
  {
   "cell_type": "code",
   "execution_count": null,
   "id": "71817c9a",
   "metadata": {},
   "outputs": [],
   "source": [
    "# Countdown Example\n",
    "n = 5\n",
    "while n > 0:\n",
    "    print(n)\n",
    "    n -= 1\n",
    "print(\"Blast off!\")\n",
    "\n",
    "# Output\n",
    "# 5\n",
    "# 4\n",
    "# 3\n",
    "# 2\n",
    "# 1\n",
    "# Blast off!\n"
   ]
  },
  {
   "cell_type": "code",
   "execution_count": null,
   "id": "4534e636",
   "metadata": {},
   "outputs": [],
   "source": [
    "# Using While for Input Validation\n",
    "password = \"\"\n",
    "while password != \"python123\":\n",
    "    password = input(\"Enter password: \")\n",
    "\n",
    "print(\"Access granted!\")\n",
    "\n",
    "# Keeps asking until the user enters the correct password."
   ]
  },
  {
   "cell_type": "code",
   "execution_count": null,
   "id": "8fcd50ac",
   "metadata": {},
   "outputs": [],
   "source": [
    "# While Loop with List\n",
    "numbers = [1, 2, 3, 4, 5]\n",
    "i = 0\n",
    "while i < len(numbers):\n",
    "    print(numbers[i])\n",
    "    i += 1\n",
    "\n",
    "# 1\n",
    "# 2\n",
    "# 3\n",
    "# 4\n",
    "# 5\n"
   ]
  },
  {
   "cell_type": "code",
   "execution_count": null,
   "id": "2acaed55",
   "metadata": {},
   "outputs": [],
   "source": [
    "'''\n",
    "| Feature     | `for` Loop                               | `while` Loop                           |\n",
    "| ----------- | ---------------------------------------- | -------------------------------------- |\n",
    "| Use case    | When you know **how many times** to loop | When you **don’t know** how many times |\n",
    "| Example     | `for i in range(5):`                     | `while i < 5:`                         |\n",
    "| Common with | Lists, strings, ranges                   | User input, waiting for condition      |\n",
    "\n",
    "'''\n",
    "\n",
    "'''\n",
    "| Keyword       | Description                      |\n",
    "| ------------- | -------------------------------- |\n",
    "| `while`       | Repeats while condition is True  |\n",
    "| `break`       | Stops the loop immediately       |\n",
    "| `continue`    | Skips current iteration          |\n",
    "| `else`        | Runs when loop finishes normally |\n",
    "| Infinite loop | Use `while True:` + `break`      |\n",
    "\n",
    "'''"
   ]
  },
  {
   "cell_type": "code",
   "execution_count": null,
   "id": "913fce2b",
   "metadata": {},
   "outputs": [],
   "source": [
    "i = 0\n",
    "while(i<10):\n",
    "    print(i)\n",
    "    i += 1"
   ]
  },
  {
   "cell_type": "code",
   "execution_count": null,
   "id": "03737ff0",
   "metadata": {},
   "outputs": [],
   "source": [
    "l = [1, \"Harry\", False, \"This\", \"Rohan\", \"Shubham\", \"Shubhi\"]\n",
    "\n",
    "i = 0\n",
    "\n",
    "while(i<len(l)):\n",
    "    print(l[i])\n",
    "    i +=1"
   ]
  }
 ],
 "metadata": {
  "kernelspec": {
   "display_name": "Python 3",
   "language": "python",
   "name": "python3"
  },
  "language_info": {
   "codemirror_mode": {
    "name": "ipython",
    "version": 3
   },
   "file_extension": ".py",
   "mimetype": "text/x-python",
   "name": "python",
   "nbconvert_exporter": "python",
   "pygments_lexer": "ipython3",
   "version": "3.13.0"
  }
 },
 "nbformat": 4,
 "nbformat_minor": 5
}
