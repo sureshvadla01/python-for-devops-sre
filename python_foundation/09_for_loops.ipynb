{
 "cells": [
  {
   "cell_type": "code",
   "execution_count": null,
   "id": "9f86fbfe",
   "metadata": {},
   "outputs": [],
   "source": [
    "# A for loop is used to iterate (loop) over an iterable — like a list, string, tuple, dictionary, or range — and execute code for each item.\n",
    "'''\n",
    "for variable in iterable:\n",
    "    # code to run each time\n",
    "variable → holds the current item from the iterable\n",
    "iterable → something you can loop over (like a list, string, etc.)\n",
    "'''"
   ]
  },
  {
   "cell_type": "code",
   "execution_count": null,
   "id": "42fa87cd",
   "metadata": {},
   "outputs": [],
   "source": [
    "# Looping Through a List\n",
    "fruits = [\"apple\", \"banana\", \"cherry\"]\n",
    "\n",
    "for fruit in fruits:\n",
    "    print(fruit)\n"
   ]
  },
  {
   "cell_type": "code",
   "execution_count": null,
   "id": "55be5615",
   "metadata": {},
   "outputs": [],
   "source": [
    "# Looping Through a String\n",
    "for char in \"Python\":\n",
    "    print(char)\n"
   ]
  },
  {
   "cell_type": "code",
   "execution_count": null,
   "id": "871ea08d",
   "metadata": {},
   "outputs": [],
   "source": [
    "# Using range() If you want to loop a certain number of times:\n",
    "for i in range(5):\n",
    "    print(i)\n",
    "# output\n",
    "# 0\n",
    "# 1\n",
    "# 2\n",
    "# 3\n",
    "# 4\n",
    "# (Remember: range(5) gives 0–4, not 0–5)"
   ]
  },
  {
   "cell_type": "code",
   "execution_count": null,
   "id": "f39b4168",
   "metadata": {},
   "outputs": [],
   "source": [
    "# Range Variations range(start, stop, step)\n",
    "for i in range(2, 10, 2):\n",
    "    print(i)\n",
    "\n",
    "# output\n",
    "# 2\n",
    "# 4\n",
    "# 6\n",
    "# 8\n"
   ]
  },
  {
   "cell_type": "code",
   "execution_count": null,
   "id": "a3db5320",
   "metadata": {},
   "outputs": [],
   "source": [
    "# Looping Through a Dictionary\n",
    "person = {\"name\": \"Alice\", \"age\": 25, \"city\": \"Paris\"}\n",
    "\n",
    "for key, value in person.items():\n",
    "    print(key, \":\", value)\n",
    "\n",
    "# output\n",
    "# name : Alice\n",
    "# age : 25\n",
    "# city : Paris\n"
   ]
  },
  {
   "cell_type": "code",
   "execution_count": null,
   "id": "c6238193",
   "metadata": {},
   "outputs": [],
   "source": [
    "# Nested for Loops\n",
    "colors = [\"red\", \"green\"]\n",
    "fruits = [\"apple\", \"banana\"]\n",
    "\n",
    "for color in colors:\n",
    "    for fruit in fruits:\n",
    "        print(color, fruit)\n",
    "\n",
    "# red apple\n",
    "# red banana\n",
    "# green apple\n",
    "# green banana\n"
   ]
  },
  {
   "cell_type": "code",
   "execution_count": null,
   "id": "977e3cbf",
   "metadata": {},
   "outputs": [],
   "source": [
    "# Using break and continue\n",
    "# break → stops the loop early\n",
    "for x in [1, 2, 3, 4, 5]:\n",
    "    if x == 3:\n",
    "        break\n",
    "    print(x)\n",
    "\n",
    "# 1\n",
    "# 2\n",
    "\n",
    "# continue → skips the rest of current iteration\n",
    "for x in [1, 2, 3, 4, 5]:\n",
    "    if x == 3:\n",
    "        continue\n",
    "    print(x)\n",
    "\n",
    "# 1\n",
    "# 2\n",
    "# 4\n",
    "# 5\n"
   ]
  },
  {
   "cell_type": "code",
   "execution_count": null,
   "id": "e2259f3e",
   "metadata": {},
   "outputs": [],
   "source": [
    "# for with else\n",
    "# The else block runs if the loop completes normally (no break):\n",
    "\n",
    "for i in range(3):\n",
    "    print(i)\n",
    "else:\n",
    "    print(\"Done!\")\n",
    "\n",
    "# 0\n",
    "# 1\n",
    "# 2\n",
    "# Done!\n"
   ]
  },
  {
   "cell_type": "code",
   "execution_count": null,
   "id": "0947e3df",
   "metadata": {},
   "outputs": [],
   "source": [
    "# List Comprehension (Short for)\n",
    "squares = [x**2 for x in range(5)]\n",
    "print(squares)\n",
    "\n",
    "# [0, 1, 4, 9, 16]\n"
   ]
  },
  {
   "cell_type": "code",
   "execution_count": null,
   "id": "1512693b",
   "metadata": {},
   "outputs": [],
   "source": [
    "'''\n",
    "| Concept           | Example                    | Description            |\n",
    "| ----------------- | -------------------------- | ---------------------- |\n",
    "| Loop through list | `for x in [1,2,3]:`        | Iterates items         |\n",
    "| Loop with range   | `for i in range(5):`       | Loops fixed times      |\n",
    "| Loop through dict | `for k,v in d.items():`    | Keys & values          |\n",
    "| Break             | `break`                    | Stop loop early        |\n",
    "| Continue          | `continue`                 | Skip current iteration |\n",
    "| Else              | `for ... else:`            | Runs if no break       |\n",
    "| Nested            | `for x in X: for y in Y:`  | Double loop            |\n",
    "| Comprehension     | `[x**2 for x in range(5)]` | One-line loop          |\n",
    "'''"
   ]
  },
  {
   "cell_type": "code",
   "execution_count": null,
   "id": "bd305159",
   "metadata": {},
   "outputs": [],
   "source": [
    "for i in range(4):\n",
    "    print(i)"
   ]
  },
  {
   "cell_type": "code",
   "execution_count": null,
   "id": "d5485fbb",
   "metadata": {},
   "outputs": [],
   "source": [
    "for i in range(1, 6):\n",
    "    print(i)"
   ]
  },
  {
   "cell_type": "code",
   "execution_count": null,
   "id": "1f93dde9",
   "metadata": {},
   "outputs": [],
   "source": [
    "## For Loop with Lists\n",
    "l = [1, 4, 6, 234, 6, 764]\n",
    "for i in l:\n",
    "    print(i)\n",
    "\n",
    "## For Loop with Tuples\n",
    "t = (6, 231, 75, 122)\n",
    "for i in t:\n",
    "    print(i)\n",
    "\n",
    "## For Loop with Strings\n",
    "s = \"Harry\"\n",
    "for i in s:\n",
    "    print(i)"
   ]
  },
  {
   "cell_type": "code",
   "execution_count": null,
   "id": "9a2489c0",
   "metadata": {},
   "outputs": [],
   "source": [
    "l= [1,7,8] \n",
    "\n",
    "for item in l:\n",
    "    print(item)\n",
    "\n",
    "else:\n",
    "    print(\"done\") # this is printed when the loop exhausts!"
   ]
  },
  {
   "cell_type": "code",
   "execution_count": null,
   "id": "803ab3f1",
   "metadata": {},
   "outputs": [],
   "source": [
    "l = [3, 513, 53, 535]\n",
    "\n",
    "# index = 0\n",
    "# for item in l:\n",
    "#     print(f\"The item number at index {index} is {item}\")\n",
    "#     index += 1\n",
    "\n",
    "# This can be simplified using enumerate function\n",
    "\n",
    "for index, item in enumerate(l):\n",
    "    print(f\"The item number at index {index} is {item}\")\n"
   ]
  }
 ],
 "metadata": {
  "kernelspec": {
   "display_name": "Python 3",
   "language": "python",
   "name": "python3"
  },
  "language_info": {
   "codemirror_mode": {
    "name": "ipython",
    "version": 3
   },
   "file_extension": ".py",
   "mimetype": "text/x-python",
   "name": "python",
   "nbconvert_exporter": "python",
   "pygments_lexer": "ipython3",
   "version": "3.13.0"
  }
 },
 "nbformat": 4,
 "nbformat_minor": 5
}
