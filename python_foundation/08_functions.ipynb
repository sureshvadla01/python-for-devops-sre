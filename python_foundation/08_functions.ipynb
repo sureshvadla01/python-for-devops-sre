{
 "cells": [
  {
   "cell_type": "code",
   "execution_count": null,
   "id": "71a1a244",
   "metadata": {},
   "outputs": [],
   "source": [
    "'''\n",
    "A function is a reusable block of code that performs a specific task.\n",
    "It helps you organize, reuse, and simplify your programs.\n",
    "\n",
    "def function_name(parameters):\n",
    "    # code block\n",
    "    return value\n",
    "'''"
   ]
  },
  {
   "cell_type": "code",
   "execution_count": null,
   "id": "4db45ed2",
   "metadata": {},
   "outputs": [],
   "source": [
    "# Basic Function\n",
    "def greet():\n",
    "    print(\"Hello, world!\")\n",
    "\n",
    "greet()\n",
    "\n",
    "# Hello, world!"
   ]
  },
  {
   "cell_type": "code",
   "execution_count": null,
   "id": "8bdd545f",
   "metadata": {},
   "outputs": [],
   "source": [
    "# Function with Parameters\n",
    "def greet(name):\n",
    "    print(\"Hello,\", name)\n",
    "\n",
    "greet(\"Alice\")\n",
    "\n",
    "# Hello, Alice\n"
   ]
  },
  {
   "cell_type": "code",
   "execution_count": null,
   "id": "f69d0056",
   "metadata": {},
   "outputs": [],
   "source": [
    "# Function with Return Value\n",
    "def add(a, b):\n",
    "    return a + b\n",
    "\n",
    "result = add(3, 5)\n",
    "print(result)\n",
    "\n",
    "# 8\n"
   ]
  },
  {
   "cell_type": "code",
   "execution_count": null,
   "id": "506bc659",
   "metadata": {},
   "outputs": [],
   "source": [
    "# Multiple Parameters\n",
    "def full_name(first, last):\n",
    "    return first + \" \" + last\n",
    "\n",
    "print(full_name(\"John\", \"Doe\"))\n",
    "\n",
    "# John Doe\n",
    "\n"
   ]
  },
  {
   "cell_type": "code",
   "execution_count": null,
   "id": "b772dee6",
   "metadata": {},
   "outputs": [],
   "source": [
    "# Default Parameters\n",
    "\n",
    "def greet(name=\"Guest\"):\n",
    "    print(\"Hello,\", name)\n",
    "\n",
    "greet(\"Alice\")\n",
    "greet()\n",
    "\n",
    "# If an argument isn’t provided, the default value is used.\n",
    "# Hello, Alice\n",
    "# Hello, Guest\n"
   ]
  },
  {
   "cell_type": "code",
   "execution_count": null,
   "id": "25d59d64",
   "metadata": {},
   "outputs": [],
   "source": [
    "# Keyword Arguments\n",
    "# You can pass arguments by name:\n",
    "\n",
    "def profile(name, age):\n",
    "    print(f\"{name} is {age} years old.\")\n",
    "\n",
    "profile(age=25, name=\"Alice\")\n",
    "\n",
    "# Alice is 25 years old.\n"
   ]
  },
  {
   "cell_type": "code",
   "execution_count": null,
   "id": "854c31ba",
   "metadata": {},
   "outputs": [],
   "source": [
    "# Variable-Length Arguments\n",
    "# *args → multiple positional arguments\n",
    "\n",
    "def add_numbers(*args):\n",
    "    return sum(args)\n",
    "\n",
    "print(add_numbers(1, 2, 3, 4))\n",
    "\n",
    "# 10\n",
    "\n",
    "# **kwargs → multiple keyword arguments\n",
    "\n",
    "def show_info(**kwargs):\n",
    "    for key, value in kwargs.items():\n",
    "        print(key, \"=\", value)\n",
    "\n",
    "show_info(name=\"Alice\", age=25, city=\"Paris\")\n",
    "\n",
    "# name = Alice\n",
    "# age = 25\n",
    "# city = Paris"
   ]
  },
  {
   "cell_type": "code",
   "execution_count": null,
   "id": "ea14ecdd",
   "metadata": {},
   "outputs": [],
   "source": [
    "# Returning Multiple Values\n",
    "\n",
    "def stats(a, b):\n",
    "    return a + b, a * b\n",
    "\n",
    "sum_, product = stats(3, 4)\n",
    "print(sum_, product)\n",
    "\n",
    "# 7 12\n"
   ]
  },
  {
   "cell_type": "code",
   "execution_count": null,
   "id": "e5304f42",
   "metadata": {},
   "outputs": [],
   "source": [
    "# Nested Function\n",
    "\n",
    "def outer():\n",
    "    def inner():\n",
    "        print(\"Inside inner function\")\n",
    "    inner()\n",
    "\n",
    "outer()\n",
    "\n",
    "# Inside inner function\n"
   ]
  },
  {
   "cell_type": "code",
   "execution_count": null,
   "id": "132ab842",
   "metadata": {},
   "outputs": [],
   "source": [
    "# Lambda (Anonymous Function)\n",
    "square = lambda x: x**2\n",
    "print(square(5))\n",
    "\n",
    "# 25\n",
    "\n",
    "# same as\n",
    "\n",
    "def square(x):\n",
    "    return x**2\n",
    "\n"
   ]
  },
  {
   "cell_type": "code",
   "execution_count": null,
   "id": "ae251782",
   "metadata": {},
   "outputs": [],
   "source": [
    "# Use meaningful names\n",
    "# Keep functions short and focused\n",
    "# Add docstrings (\"\"\"Description\"\"\")\n",
    "# Use return values for reusable results"
   ]
  },
  {
   "cell_type": "code",
   "execution_count": null,
   "id": "931537db",
   "metadata": {},
   "outputs": [],
   "source": [
    "'''\n",
    "| Concept    | Example          | Description              |\n",
    "| ---------- | ---------------- | ------------------------ |\n",
    "| Define     | `def func():`    | create a function        |\n",
    "| Call       | `func()`         | run it                   |\n",
    "| Parameters | `def func(x, y)` | input values             |\n",
    "| Return     | `return x + y`   | send back result         |\n",
    "| Default    | `def func(x=10)` | fallback value           |\n",
    "| *args      | `def f(*a)`      | variable positional args |\n",
    "| **kwargs   | `def f(**k)`     | variable keyword args    |\n",
    "| Lambda     | `lambda x: x*2`  | short function           |\n",
    "\n",
    "'''"
   ]
  }
 ],
 "metadata": {
  "language_info": {
   "name": "python"
  }
 },
 "nbformat": 4,
 "nbformat_minor": 5
}
