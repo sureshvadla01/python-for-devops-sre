{
 "cells": [
  {
   "cell_type": "code",
   "execution_count": null,
   "id": "95dec4a3",
   "metadata": {},
   "outputs": [],
   "source": [
    "'''\n",
    "A dictionary in Python is a collection of key–value pairs.\n",
    "It lets you store and retrieve data by key, not by position (like lists).\n",
    "Think of it like a real-world dictionary:\n",
    "'''"
   ]
  },
  {
   "cell_type": "code",
   "execution_count": null,
   "id": "18b9e1d9",
   "metadata": {},
   "outputs": [],
   "source": [
    "my_dict = {\n",
    "    key1: value1,\n",
    "    key2: value2,\n",
    "    key3: value3\n",
    "}\n",
    "\n",
    "# Keys must be unique and immutable (e.g., strings, numbers, tuples).\n",
    "# Values can be any type (string, list, another dict, etc.)."
   ]
  },
  {
   "cell_type": "code",
   "execution_count": null,
   "id": "5d407fee",
   "metadata": {},
   "outputs": [],
   "source": [
    "#Creating a Dictionary\n",
    "person = {\n",
    "    \"name\": \"Alice\",\n",
    "    \"age\": 25,\n",
    "    \"city\": \"New York\"\n",
    "}\n",
    "\n",
    "print(person)\n",
    "\n",
    "#Accessing Values\n",
    "print(person[\"name\"])   # Alice\n",
    "print(person[\"age\"])    # 25\n",
    "\n",
    "#Use .get() to avoid errors:\n",
    "print(person.get(\"country\", \"Not Found\"))  # Not Found"
   ]
  },
  {
   "cell_type": "code",
   "execution_count": null,
   "id": "a91be609",
   "metadata": {},
   "outputs": [],
   "source": [
    "#Adding / Updating\n",
    "person[\"age\"] = 26             # update value\n",
    "person[\"country\"] = \"USA\"      # add new key\n",
    "print(person)\n"
   ]
  },
  {
   "cell_type": "code",
   "execution_count": null,
   "id": "09120c5e",
   "metadata": {},
   "outputs": [],
   "source": [
    "#Removing Items\n",
    "person.pop(\"city\")        # removes key and returns value\n",
    "print(person)\n",
    "\n",
    "del person[\"age\"]         # deletes key permanently\n",
    "print(person)\n",
    "\n",
    "person.clear()            # removes everything\n",
    "print(person)\n"
   ]
  },
  {
   "cell_type": "code",
   "execution_count": null,
   "id": "a9c09830",
   "metadata": {},
   "outputs": [],
   "source": [
    "#Looping Through a Dictionary\n",
    "person = {\"name\": \"Alice\", \"age\": 25, \"city\": \"New York\"}\n",
    "\n",
    "for key in person:\n",
    "    print(key, \"→\", person[key])\n",
    "\n",
    "for key, value in person.items():\n",
    "    print(key, value)\n"
   ]
  },
  {
   "cell_type": "code",
   "execution_count": null,
   "id": "30a7b692",
   "metadata": {},
   "outputs": [],
   "source": [
    "#Nested Dictionary\n",
    "students = {\n",
    "    \"s1\": {\"name\": \"Bob\", \"age\": 20},\n",
    "    \"s2\": {\"name\": \"Lisa\", \"age\": 22}\n",
    "}\n",
    "print(students[\"s1\"][\"name\"])  # Bob\n"
   ]
  },
  {
   "cell_type": "code",
   "execution_count": null,
   "id": "79305476",
   "metadata": {},
   "outputs": [],
   "source": [
    "'''\n",
    "| Method     | Description             | Example                      |\n",
    "| ---------- | ----------------------- | ---------------------------- |\n",
    "| `keys()`   | Returns all keys        | `person.keys()`              |\n",
    "| `values()` | Returns all values      | `person.values()`            |\n",
    "| `items()`  | Returns key–value pairs | `person.items()`             |\n",
    "| `update()` | Merges another dict     | `person.update({\"age\":30})`  |\n",
    "| `pop()`    | Removes by key          | `person.pop(\"age\")`          |\n",
    "| `copy()`   | Returns a shallow copy  | `new_person = person.copy()` |\n",
    "'''"
   ]
  },
  {
   "cell_type": "code",
   "execution_count": null,
   "id": "a1d48dbe",
   "metadata": {},
   "outputs": [],
   "source": [
    "#Dictionary Comprehension\n",
    "# You can build a dict in one line:\n",
    "squares = {x: x**2 for x in range(5)}\n",
    "print(squares)\n",
    "\n",
    "# output {0: 0, 1: 1, 2: 4, 3: 9, 4: 16}"
   ]
  },
  {
   "cell_type": "code",
   "execution_count": null,
   "id": "76d07170",
   "metadata": {},
   "outputs": [],
   "source": [
    "# Dictionaries Are Mutable\n",
    "# That means you can change, add, or remove items anytime — unlike tuples.\n",
    "'''\n",
    "| Concept | Example                 | Description     |\n",
    "| ------- | ----------------------- | --------------- |\n",
    "| Create  | `d = {\"a\":1, \"b\":2}`    | key-value pairs |\n",
    "| Access  | `d[\"a\"]`                | get value       |\n",
    "| Add     | `d[\"c\"] = 3`            | add key-value   |\n",
    "| Update  | `d[\"a\"] = 5`            | change value    |\n",
    "| Remove  | `d.pop(\"b\")`            | delete          |\n",
    "| Loop    | `for k,v in d.items():` | iterate         |\n",
    "\n",
    "'''\n"
   ]
  }
 ],
 "metadata": {
  "kernelspec": {
   "display_name": "Python 3",
   "language": "python",
   "name": "python3"
  },
  "language_info": {
   "codemirror_mode": {
    "name": "ipython",
    "version": 3
   },
   "file_extension": ".py",
   "mimetype": "text/x-python",
   "name": "python",
   "nbconvert_exporter": "python",
   "pygments_lexer": "ipython3",
   "version": "3.13.0"
  }
 },
 "nbformat": 4,
 "nbformat_minor": 5
}
