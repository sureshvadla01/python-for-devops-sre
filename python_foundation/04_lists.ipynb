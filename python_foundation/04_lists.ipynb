{
 "cells": [
  {
   "cell_type": "code",
   "execution_count": null,
   "id": "dae3bb99",
   "metadata": {},
   "outputs": [],
   "source": [
    "# A list is an ordered, mutable collection of items — you can store multiple values in a single variable.\n",
    "# It’s like a dynamic array that can hold different data types.\n",
    "\n",
    "# my_list = [item1, item2, item3]\n",
    "fruits = [\"apple\", \"banana\", \"cherry\"]\n"
   ]
  },
  {
   "cell_type": "code",
   "execution_count": null,
   "id": "322ad212",
   "metadata": {},
   "outputs": [],
   "source": [
    "numbers = [1, 2, 3, 4, 5]\n",
    "mixed = [10, \"apple\", True, 3.14]\n",
    "nested = [[1, 2], [3, 4]]\n"
   ]
  },
  {
   "cell_type": "code",
   "execution_count": null,
   "id": "e894124a",
   "metadata": {},
   "outputs": [],
   "source": [
    "# Accessing Elements Lists use zero-based indexing:\n",
    "fruits = [\"apple\", \"banana\", \"cherry\"]\n",
    "print(fruits[0])   # apple\n",
    "print(fruits[2])   # cherry\n",
    "# Use negative indexes to count from the end:\n",
    "print(fruits[-1])  # cherry\n",
    "\n",
    "numbers = list(range(1, 6))\n",
    "print(numbers)\n",
    "\n",
    "#Output: [1, 2, 3, 4, 5]   "
   ]
  },
  {
   "cell_type": "code",
   "execution_count": null,
   "id": "e90e33b5",
   "metadata": {},
   "outputs": [],
   "source": [
    "# Slicing\n",
    "nums = [10, 20, 30, 40, 50]\n",
    "print(nums[1:4])   # [20, 30, 40]\n",
    "print(nums[:3])    # [10, 20, 30]\n",
    "print(nums[::2])   # [10, 30, 50]\n"
   ]
  },
  {
   "cell_type": "code",
   "execution_count": null,
   "id": "ded33c2b",
   "metadata": {},
   "outputs": [],
   "source": [
    "# Modifying Lists\n",
    "# Lists are mutable — you can change items directly.\n",
    "fruits = [\"apple\", \"banana\", \"cherry\"]\n",
    "fruits[1] = \"mango\"\n",
    "print(fruits)  # ['apple', 'mango', 'cherry']\n",
    "\n",
    "fruits.append(\"orange\")      # add at end\n",
    "fruits.insert(1, \"grape\")    # insert at position 1\n",
    "print(fruits)\n"
   ]
  },
  {
   "cell_type": "code",
   "execution_count": null,
   "id": "7e66e518",
   "metadata": {},
   "outputs": [],
   "source": [
    "# Removing Items\n",
    "\n",
    "fruits = [\"apple\", \"banana\", \"cherry\", \"mango\"]\n",
    "\n",
    "fruits.remove(\"banana\")  # remove by value\n",
    "print(fruits)\n",
    "\n",
    "popped = fruits.pop(1)   # remove by index\n",
    "print(popped)            # removed item\n",
    "print(fruits)\n",
    "\n",
    "del fruits[0]            # delete specific index\n",
    "print(fruits)\n",
    "\n",
    "fruits.clear()           # remove all\n",
    "print(fruits)\n"
   ]
  },
  {
   "cell_type": "code",
   "execution_count": null,
   "id": "57823c90",
   "metadata": {},
   "outputs": [],
   "source": [
    "# Looping Through Lists\n",
    "fruits = [\"apple\", \"banana\", \"cherry\"]\n",
    "for fruit in fruits:\n",
    "    print(fruit)\n"
   ]
  },
  {
   "cell_type": "code",
   "execution_count": null,
   "id": "4ec91b2b",
   "metadata": {},
   "outputs": [],
   "source": [
    "# Checking Membership\n",
    "if \"apple\" in fruits:\n",
    "    print(\"Yes, apple is there!\")\n"
   ]
  },
  {
   "cell_type": "code",
   "execution_count": null,
   "id": "2d8cd6e7",
   "metadata": {},
   "outputs": [],
   "source": [
    "'''\n",
    "| Method         | Description                         | Example                     |\n",
    "| -------------- | ----------------------------------- | --------------------------- |\n",
    "| `append(x)`    | Add item at end                     | `fruits.append(\"mango\")`    |\n",
    "| `insert(i, x)` | Add item at index `i`               | `fruits.insert(1, \"grape\")` |\n",
    "| `remove(x)`    | Remove first occurrence of `x`      | `fruits.remove(\"apple\")`    |\n",
    "| `pop(i)`       | Remove and return item at index `i` | `fruits.pop(2)`             |\n",
    "| `sort()`       | Sort list ascending                 | `nums.sort()`               |\n",
    "| `reverse()`    | Reverse order                       | `nums.reverse()`            |\n",
    "| `count(x)`     | Count occurrences                   | `fruits.count(\"apple\")`     |\n",
    "| `index(x)`     | Get index of item                   | `fruits.index(\"cherry\")`    |\n",
    "| `copy()`       | Make shallow copy                   | `new_list = fruits.copy()`  |\n",
    "\n",
    "'''"
   ]
  },
  {
   "cell_type": "code",
   "execution_count": null,
   "id": "259e81f8",
   "metadata": {},
   "outputs": [],
   "source": [
    "# Combining Lists\n",
    "a = [1, 2, 3]\n",
    "b = [4, 5]\n",
    "c = a + b\n",
    "print(c)  # [1, 2, 3, 4, 5]\n",
    "\n",
    "# Or extend in place:\n",
    "a.extend(b)\n",
    "print(a)  # [1, 2, 3, 4, 5]\n",
    "\n"
   ]
  },
  {
   "cell_type": "code",
   "execution_count": null,
   "id": "f2ffc8df",
   "metadata": {},
   "outputs": [],
   "source": [
    "# List Comprehensions\n",
    "squares = [x**2 for x in range(5)]\n",
    "print(squares) #[0, 1, 4, 9, 16]\n",
    "\n",
    "even = [x for x in range(10) if x % 2 == 0]\n",
    "print(even)  #[0, 2, 4, 6, 8]"
   ]
  },
  {
   "cell_type": "code",
   "execution_count": null,
   "id": "984400e9",
   "metadata": {},
   "outputs": [],
   "source": [
    "a = [1, 2, 3]\n",
    "b = a\n",
    "b.append(4)\n",
    "print(a)  # [1, 2, 3, 4]  (same reference)\n"
   ]
  },
  {
   "cell_type": "code",
   "execution_count": null,
   "id": "ad631a95",
   "metadata": {},
   "outputs": [],
   "source": [
    "'''\n",
    "| Concept       | Example                            | Description                 |\n",
    "| ------------- | ---------------------------------- | --------------------------- |\n",
    "| Create        | `[1,2,3]`                          | ordered, mutable collection |\n",
    "| Access        | `lst[0]`                           | get first item              |\n",
    "| Slice         | `lst[1:4]`                         | get subset                  |\n",
    "| Add           | `append()`, `insert()`, `extend()` | modify                      |\n",
    "| Remove        | `remove()`, `pop()`, `del`         | delete                      |\n",
    "| Loop          | `for item in lst:`                 | iterate                     |\n",
    "| Comprehension | `[x**2 for x in range(5)]`         | quick list creation         |\n",
    "\n",
    "'''"
   ]
  },
  {
   "cell_type": "code",
   "execution_count": null,
   "id": "41b5102c",
   "metadata": {},
   "outputs": [],
   "source": [
    "#list [] - [1,2,3,4] - mutable, ordered, duplicates  \n",
    "ilist = [1,3,3,2,4,44]\n",
    "print(ilist) #[1, 3, 3, 4, 44]\n",
    "print(ilist.index(44)) # 5\n",
    "ilist.append(33)\n",
    "print(len(ilist))\n",
    "print(ilist)\n",
    "print(ilist[5]) # 44\n",
    "#print(name[2:10]) same with string so it doesn't matter list of string same get the index - [1:3]\n",
    "\n",
    "my_list = [1, 2, 3, 4, 2]\n",
    "\n",
    "# Add\n",
    "my_list.append(5)         # Add at end\n",
    "my_list.insert(1, 10)     # Insert at index\n",
    "\n",
    "# Remove\n",
    "my_list.remove(2)         # Removes first 2\n",
    "popped = my_list.pop()    # Removes last item\n",
    "\n",
    "#Remove all occurrences of 2\n",
    "my_list = [1, 2, 3, 2, 4]\n",
    "my_list = [x for x in my_list if x != 2]\n",
    "print(my_list)  # Output: [1, 3, 4]\n",
    "\n",
    "# Access / Slice\n",
    "item = my_list[0]         # Access by index\n",
    "slice = my_list[1:4]      # Get sublist\n",
    "\n",
    "# Other\n",
    "length = len(my_list)     # Get length\n",
    "count = my_list.count(2)  # Count occurrences\n",
    "index = my_list.index(3)  # Get index of value\n",
    "my_list.sort()            # Sort list\n",
    "\n",
    "\n",
    "friends = [\"Apple\", \"Orange\", 5, 345.06, False, \"Aakash\", \"Rohan\"]\n",
    "\n",
    "print(friends[0])\n",
    "friends[0] = \"Grapes\" # Unlike Strings lists are mutable\n",
    "\n",
    "print(friends[0])\n",
    "print(friends[1:4])"
   ]
  }
 ],
 "metadata": {
  "language_info": {
   "name": "python"
  }
 },
 "nbformat": 4,
 "nbformat_minor": 5
}
