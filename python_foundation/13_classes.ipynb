{
 "cells": [
  {
   "cell_type": "code",
   "execution_count": null,
   "id": "e825e3f3",
   "metadata": {},
   "outputs": [],
   "source": [
    "'''\n",
    "A class is a blueprint for creating objects (instances).\n",
    "Objects are bundles of data (attributes) and functions (methods) that work together.\n",
    "\n",
    "Think of a class like a template — e.g., “Car” —\n",
    "and each object (like “Tesla” or “BMW”) is a specific instance built from that template.\n",
    "'''"
   ]
  },
  {
   "cell_type": "code",
   "execution_count": null,
   "id": "65593cb6",
   "metadata": {},
   "outputs": [],
   "source": [
    "# Basic Syntax\n",
    "class ClassName:\n",
    "    # class attributes and methods\n",
    "    \n",
    "# You create objects (instances) like this:\n",
    "# obj = ClassName()\n"
   ]
  },
  {
   "cell_type": "code",
   "execution_count": null,
   "id": "8e94f46b",
   "metadata": {},
   "outputs": [],
   "source": [
    "# Basic Class\n",
    "class Person:\n",
    "    def greet(self):\n",
    "        print(\"Hello!\")\n",
    "\n",
    "p1 = Person()\n",
    "p1.greet()\n",
    "\n",
    "# Hello!\n"
   ]
  },
  {
   "cell_type": "code",
   "execution_count": null,
   "id": "f96577b0",
   "metadata": {},
   "outputs": [],
   "source": [
    "# __init__ Method (Constructor)\n",
    "# __init__ runs automatically when you create a new object — it’s used to initialize attributes.\n",
    "\n",
    "class Person:\n",
    "    def __init__(self, name, age):\n",
    "        self.name = name\n",
    "        self.age = age\n",
    "\n",
    "    def introduce(self):\n",
    "        print(f\"My name is {self.name} and I’m {self.age} years old.\")\n",
    "\n",
    "p1 = Person(\"Alice\", 25)\n",
    "p1.introduce()\n",
    "\n",
    "# My name is Alice and I’m 25 years old.\n",
    "# self → refers to the current object\n",
    "# name, age → instance variables (unique per object)\n"
   ]
  },
  {
   "cell_type": "code",
   "execution_count": null,
   "id": "6d31a211",
   "metadata": {},
   "outputs": [],
   "source": [
    "# Multiple Objects\n",
    "p1 = Person(\"Alice\", 25)\n",
    "p2 = Person(\"Bob\", 30)\n",
    "\n",
    "print(p1.name)  # Alice\n",
    "print(p2.name)  # Bob\n",
    "\n",
    "# Each object keeps its own data."
   ]
  },
  {
   "cell_type": "code",
   "execution_count": null,
   "id": "fcdd6056",
   "metadata": {},
   "outputs": [],
   "source": [
    "# Class Attributes (Shared by All)\n",
    "class Dog:\n",
    "    species = \"Canine\"   # class attribute\n",
    "\n",
    "    def __init__(self, name):\n",
    "        self.name = name  # instance attribute\n",
    "\n",
    "dog1 = Dog(\"Buddy\")\n",
    "dog2 = Dog(\"Max\")\n",
    "\n",
    "print(dog1.species, dog1.name)\n",
    "print(dog2.species, dog2.name)\n",
    "\n",
    "# Canine Buddy\n",
    "# Canine Max\n"
   ]
  },
  {
   "cell_type": "code",
   "execution_count": null,
   "id": "e38e923b",
   "metadata": {},
   "outputs": [],
   "source": [
    "# Modify Attributes\n",
    "\n",
    "dog1.name = \"Charlie\"\n",
    "print(dog1.name)  # Charlie\n",
    "\n",
    "# You can change instance attributes directly — they’re mutable."
   ]
  },
  {
   "cell_type": "code",
   "execution_count": null,
   "id": "caafd904",
   "metadata": {},
   "outputs": [],
   "source": [
    "# Methods Using Self\n",
    "class Circle:\n",
    "    def __init__(self, radius):\n",
    "        self.radius = radius\n",
    "\n",
    "    def area(self):\n",
    "        return 3.14 * self.radius ** 2\n",
    "\n",
    "c = Circle(5)\n",
    "print(c.area())\n",
    "\n",
    "# 78.5\n"
   ]
  },
  {
   "cell_type": "code",
   "execution_count": null,
   "id": "ab3696f7",
   "metadata": {},
   "outputs": [],
   "source": [
    "# Inheritance\n",
    "class Animal:\n",
    "    def speak(self):\n",
    "        print(\"Animal sound\")\n",
    "\n",
    "class Dog(Animal):    # Dog inherits from Animal\n",
    "    def speak(self):\n",
    "        print(\"Woof!\")\n",
    "\n",
    "d = Dog()\n",
    "d.speak()\n",
    "\n",
    "# Woof!"
   ]
  },
  {
   "cell_type": "code",
   "execution_count": null,
   "id": "40ffc12f",
   "metadata": {},
   "outputs": [],
   "source": [
    "# Using super()\n",
    "# super() lets a subclass call methods from its parent class.\n",
    "\n",
    "class Animal:\n",
    "    def __init__(self, name):\n",
    "        self.name = name\n",
    "\n",
    "class Dog(Animal):\n",
    "    def __init__(self, name, breed):\n",
    "        super().__init__(name)\n",
    "        self.breed = breed\n",
    "\n",
    "dog = Dog(\"Buddy\", \"Labrador\")\n",
    "print(dog.name, dog.breed)\n",
    "\n",
    "# Buddy Labrador\n"
   ]
  },
  {
   "cell_type": "code",
   "execution_count": null,
   "id": "56d36d5b",
   "metadata": {},
   "outputs": [],
   "source": [
    "# Magic / Dunder Methods\n",
    "# Methods that start and end with __ are called dunder methods (like “double underscore”).\n",
    "# Example: customizing object printing\n",
    "\n",
    "class Person:\n",
    "    def __init__(self, name, age):\n",
    "        self.name = name\n",
    "        self.age = age\n",
    "\n",
    "    def __str__(self):\n",
    "        return f\"{self.name} ({self.age} years old)\"\n",
    "\n",
    "p = Person(\"Alice\", 25)\n",
    "print(p)\n",
    "\n",
    "# Alice (25 years old)"
   ]
  },
  {
   "cell_type": "code",
   "execution_count": null,
   "id": "f05407be",
   "metadata": {},
   "outputs": [],
   "source": [
    "'''\n",
    "| Method     | Purpose                 |\n",
    "| ---------- | ----------------------- |\n",
    "| `__init__` | Initialize object       |\n",
    "| `__str__`  | String representation   |\n",
    "| `__len__`  | Length (`len(obj)`)     |\n",
    "| `__add__`  | Add (`obj1 + obj2`)     |\n",
    "| `__eq__`   | Compare equality (`==`) |\n",
    "\n",
    "'''"
   ]
  },
  {
   "cell_type": "code",
   "execution_count": null,
   "id": "d9e3a09c",
   "metadata": {},
   "outputs": [],
   "source": [
    "# Encapsulation (Private Attributes)\n",
    "# Prefix with _ or __ to indicate “internal use”:\n",
    "class BankAccount:\n",
    "    def __init__(self, balance):\n",
    "        self.__balance = balance  # private attribute\n",
    "\n",
    "    def deposit(self, amount):\n",
    "        self.__balance += amount\n",
    "\n",
    "    def get_balance(self):\n",
    "        return self.__balance\n",
    "\n",
    "acc = BankAccount(100)\n",
    "acc.deposit(50)\n",
    "print(acc.get_balance())\n",
    "\n",
    "# 150\n"
   ]
  },
  {
   "cell_type": "code",
   "execution_count": null,
   "id": "e12b5a9b",
   "metadata": {},
   "outputs": [],
   "source": [
    "'''\n",
    "| Concept           | Description                          | Example                      |\n",
    "| ----------------- | ------------------------------------ | ---------------------------- |\n",
    "| **Class**         | Blueprint for objects                | `class Car:`                 |\n",
    "| **Object**        | Instance of a class                  | `c1 = Car()`                 |\n",
    "| **`__init__`**    | Constructor (setup)                  | define attributes            |\n",
    "| **Attribute**     | Variable inside class                | `self.name`                  |\n",
    "| **Method**        | Function inside class                | `def drive(self):`           |\n",
    "| **Inheritance**   | Child class extends parent           | `class Dog(Animal)`          |\n",
    "| **Encapsulation** | Hide internal data                   | `self.__balance`             |\n",
    "| **Polymorphism**  | Same method name, different behavior | `speak()` in `Dog` and `Cat` |\n",
    "\n",
    "'''\n",
    "# real-world mini example (like a BankAccount, Employee, or Student class) combining all these features"
   ]
  }
 ],
 "metadata": {
  "language_info": {
   "name": "python"
  }
 },
 "nbformat": 4,
 "nbformat_minor": 5
}
