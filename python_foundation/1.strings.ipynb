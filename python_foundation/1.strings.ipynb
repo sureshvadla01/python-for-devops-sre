{
 "cells": [
  {
   "cell_type": "code",
   "execution_count": null,
   "id": "b5944be5",
   "metadata": {},
   "outputs": [],
   "source": [
    "#print()\n",
    "my_string = \"Python is my favorite programming language!\"\n",
    "print(my_string)"
   ]
  },
  {
   "cell_type": "code",
   "execution_count": null,
   "id": "7cff3629",
   "metadata": {},
   "outputs": [],
   "source": [
    "# format print(f\"{var}\")\n",
    "first_name = \"John\"\n",
    "last_name = \"Doe\"\n",
    "age = 88\n",
    "print(f\"My name is {first_name} {last_name}, you can call me {first_name}.\")\n",
    "print(f\"I'm {age} years old.\")"
   ]
  },
  {
   "cell_type": "code",
   "execution_count": null,
   "id": "842d79e0",
   "metadata": {},
   "outputs": [],
   "source": [
    "print(type(my_string))\n",
    "print(len(my_string))"
   ]
  },
  {
   "cell_type": "code",
   "execution_count": null,
   "id": "e7b769e9",
   "metadata": {},
   "outputs": [],
   "source": [
    "#str.replace()\n",
    "#str.replace() returns a new string where all occurrences of a specified substring are replaced with another substring.\n",
    "#string.replace(old, new, count)\n",
    "my_modified_string = my_string.replace(\"is\", \"will be\")\n",
    "print(my_modified_string)\n",
    "\n",
    "\n",
    "sentence = \"banana banana banana\"\n",
    "result = sentence.replace(\"banana\", \"apple\", 2)\n",
    "print(result)\n",
    "#(Only the first 2 occurrences are replaced.)\n",
    "\n",
    "\n",
    "#str.replace() does not change the original string (strings are immutable in Python).\n",
    "#It returns a new string with the replacements.\n",
    "text = \"hello world\"\n",
    "text.replace(\"world\", \"Python\")\n",
    "print(text)  # original unchanged\n",
    "\n",
    "#You can “remove” something by replacing it with an empty string \"\":\n",
    "text = \"hello!!!\"\n",
    "clean = text.replace(\"!\", \"\")\n",
    "print(clean)\n",
    "\n",
    "#replace() is case-sensitive:\n",
    "msg = \"Hello hello\"\n",
    "print(msg.replace(\"hello\", \"Hi\"))\n",
    "\n",
    "# str.replace() differs from re.sub() (regex-based replacement)\n"
   ]
  },
  {
   "cell_type": "code",
   "execution_count": null,
   "id": "a106d5cc",
   "metadata": {},
   "outputs": [],
   "source": [
    "#str.join()\n",
    "\n",
    "#str.join() is a string method used to combine (join) elements of an iterable (like a list, tuple, or set) into a single string, using the string you call it on as the separator.\n",
    "#separator.join(iterable)\n",
    "f_name = 'ojas'\n",
    "l_name = 'gambheera'\n",
    "\n",
    "fullname=','.join([f_name,l_name])\n",
    "print(fullname)\n",
    "\n",
    "words = [\"Python\", \"is\", \"fun\"]\n",
    "sentence = \" \".join(words)\n",
    "print(sentence)\n",
    "\n",
    "#All elements in the iterable must be strings, not numbers or other types.\n",
    "nums = [1, 2, 3]\n",
    "print(\" \".join(map(str, nums)))  # \"1 2 3\"\n",
    "\n",
    "print(\"-\".join(\"HELLO\"))\n",
    "\n",
    "data = [\"John\", \"25\", \"Engineer\"]\n",
    "csv_line = \",\".join(data)\n",
    "print(csv_line)\n"
   ]
  },
  {
   "cell_type": "code",
   "execution_count": null,
   "id": "9c51b66c",
   "metadata": {},
   "outputs": [],
   "source": [
    "#str.upper()\n",
    "#str.upper() converts all lowercase letters in a string to uppercase.\n",
    "# No parameters are needed.\n",
    "\n",
    "# Returns a new string (original string stays unchanged because strings are immutable).\n",
    "\n",
    "string=\"hello\"\n",
    "print(string.upper())\n",
    "\n",
    "# Only alphabetic characters (a–z) are affected.\n",
    "# Numbers, symbols, and spaces remain the same.\n",
    "\n",
    "msg = \"Python3.11 rocks!\"\n",
    "print(msg.upper())\n"
   ]
  },
  {
   "cell_type": "code",
   "execution_count": null,
   "id": "29fda822",
   "metadata": {},
   "outputs": [],
   "source": [
    "#str.lower()\n",
    "# No parameters are needed.\n",
    "\n",
    "# Returns a new string (because strings in Python are immutable\n",
    "text = \"HELLO WORLD\"\n",
    "result = text.lower()\n",
    "print(result)\n"
   ]
  },
  {
   "cell_type": "code",
   "execution_count": null,
   "id": "67d6e54d",
   "metadata": {},
   "outputs": [],
   "source": [
    "#str.title()\n",
    "# str.title() converts the first letter of every word in a string to uppercase, and the rest of the letters to lowercase.\n",
    "# No arguments needed.\n",
    "# Returns a new string — it doesn’t modify the original.\n",
    "text = \"hello world\"\n",
    "result = text.title()\n",
    "print(result)\n",
    "\n",
    "# title() treats any non-letter (space, hyphen, number, etc.) as a word separator:\n",
    "text = \"welcome-to python_101\"\n",
    "print(text.title())\n"
   ]
  },
  {
   "cell_type": "code",
   "execution_count": null,
   "id": "1bbc94c1",
   "metadata": {},
   "outputs": [],
   "source": [
    "#str.split()\n",
    "# str.split() is used to break a string into a list of substrings based on a separator (also called a delimiter).\n",
    "# split() returns a list.\n",
    "# string.split(separator, maxsplit)\n",
    "\n",
    "text = \"Python is fun\"\n",
    "words = text.split()\n",
    "print(words)\n",
    "#Since no separator is given, it splits by whitespace.\n",
    "\n",
    "csv = \"apple,banana,cherry\"\n",
    "fruits = csv.split(\",\")\n",
    "print(fruits)\n",
    "\n",
    "data = \"name:age:city:country\"\n",
    "result = data.split(\":\", 2)\n",
    "print(result)\n",
    "\n",
    "#Split with Multiple Spaces\n",
    "sentence = \"Python    is    cool\"\n",
    "print(sentence.split())\n",
    "\n",
    "# Reverse Operation → str.join()\n",
    "# You can join the list back into a string using \"separator\".join(list):\n",
    "\n",
    "words = \"Python is fun\".split()\n",
    "sentence = \"-\".join(words)\n",
    "print(sentence)\n",
    "\n",
    "#rsplit()  check later"
   ]
  },
  {
   "cell_type": "code",
   "execution_count": null,
   "id": "672c20bc",
   "metadata": {},
   "outputs": [],
   "source": [
    "#str.strip()\n",
    "# str.strip() removes leading (left) and trailing (right) characters from a string — most commonly whitespace (spaces, tabs, newlines).\n",
    "# string.strip(chars)\n",
    "\n",
    "text = \"   Hello World   \"\n",
    "clean = text.strip()\n",
    "print(clean)\n",
    "\n",
    "data = \"---Python---\"\n",
    "result = data.strip(\"-\")\n",
    "print(result)\n",
    "\n",
    "# It removes any combination of x and y from both ends until it hits a character not in \"xy\".\n",
    "s = \"xyxxyHello Worldxyy\"\n",
    "print(s.strip(\"xy\"))\n",
    "\n",
    "# strip() removes only from the beginning and the end, not from the middle.\n",
    "s = \"  Py thon  \"\n",
    "print(s.strip())  # 'Py thon'  (spaces inside are not removed)\n",
    "\n",
    "# lstrip() Removes characters from the left side only\n",
    "# rstrip() Removes characters from the right side only"
   ]
  },
  {
   "cell_type": "code",
   "execution_count": null,
   "id": "b9c6bd6b",
   "metadata": {},
   "outputs": [],
   "source": [
    "#Escape characters\n",
    "two_lines = \"First line\\nSecond line\"\n",
    "print(two_lines)\n",
    "\n",
    "indented = \"\\tThis will be indented\"\n",
    "print(indented)"
   ]
  }
 ],
 "metadata": {
  "kernelspec": {
   "display_name": "Python 3",
   "language": "python",
   "name": "python3"
  },
  "language_info": {
   "codemirror_mode": {
    "name": "ipython",
    "version": 3
   },
   "file_extension": ".py",
   "mimetype": "text/x-python",
   "name": "python",
   "nbconvert_exporter": "python",
   "pygments_lexer": "ipython3",
   "version": "3.13.0"
  }
 },
 "nbformat": 4,
 "nbformat_minor": 5
}
