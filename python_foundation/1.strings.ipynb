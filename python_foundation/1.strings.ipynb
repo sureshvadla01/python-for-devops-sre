{
 "cells": [
  {
   "cell_type": "code",
   "execution_count": null,
   "id": "b5944be5",
   "metadata": {},
   "outputs": [],
   "source": [
    "#print()\n",
    "my_string = \"Python is my favorite programming language!\"\n",
    "print(my_string)"
   ]
  },
  {
   "cell_type": "code",
   "execution_count": null,
   "id": "7cff3629",
   "metadata": {},
   "outputs": [],
   "source": [
    "# format print(f\"{var}\")\n",
    "first_name = \"John\"\n",
    "last_name = \"Doe\"\n",
    "age = 88\n",
    "print(f\"My name is {first_name} {last_name}, you can call me {first_name}.\")\n",
    "print(f\"I'm {age} years old.\")"
   ]
  },
  {
   "cell_type": "code",
   "execution_count": null,
   "id": "842d79e0",
   "metadata": {},
   "outputs": [],
   "source": [
    "print(type(my_string))\n",
    "print(len(my_string))"
   ]
  },
  {
   "cell_type": "code",
   "execution_count": null,
   "id": "e7b769e9",
   "metadata": {},
   "outputs": [],
   "source": [
    "#str.replace()\n",
    "#str.replace(\"replace\", \"with_replace\")\n",
    "my_modified_string = my_string.replace(\"is\", \"will be\")\n",
    "print(my_modified_string)"
   ]
  },
  {
   "cell_type": "code",
   "execution_count": null,
   "id": "a106d5cc",
   "metadata": {},
   "outputs": [],
   "source": [
    "#str.join()"
   ]
  },
  {
   "cell_type": "code",
   "execution_count": null,
   "id": "9c51b66c",
   "metadata": {},
   "outputs": [],
   "source": [
    "#str.upper()"
   ]
  },
  {
   "cell_type": "code",
   "execution_count": null,
   "id": "29fda822",
   "metadata": {},
   "outputs": [],
   "source": [
    "#str.lower()"
   ]
  },
  {
   "cell_type": "code",
   "execution_count": null,
   "id": "1bbc94c1",
   "metadata": {},
   "outputs": [],
   "source": [
    "#str.split()"
   ]
  },
  {
   "cell_type": "code",
   "execution_count": null,
   "id": "67d6e54d",
   "metadata": {},
   "outputs": [],
   "source": [
    "#str.title()"
   ]
  },
  {
   "cell_type": "code",
   "execution_count": null,
   "id": "672c20bc",
   "metadata": {},
   "outputs": [],
   "source": [
    "#str.strip()"
   ]
  },
  {
   "cell_type": "code",
   "execution_count": null,
   "id": "b9c6bd6b",
   "metadata": {},
   "outputs": [],
   "source": [
    "#Escape characters\n",
    "two_lines = \"First line\\nSecond line\"\n",
    "print(two_lines)\n",
    "\n",
    "indented = \"\\tThis will be indented\"\n",
    "print(indented)"
   ]
  }
 ],
 "metadata": {
  "kernelspec": {
   "display_name": "Python 3",
   "language": "python",
   "name": "python3"
  },
  "language_info": {
   "codemirror_mode": {
    "name": "ipython",
    "version": 3
   },
   "file_extension": ".py",
   "mimetype": "text/x-python",
   "name": "python",
   "nbconvert_exporter": "python",
   "pygments_lexer": "ipython3",
   "version": "3.13.0"
  }
 },
 "nbformat": 4,
 "nbformat_minor": 5
}
