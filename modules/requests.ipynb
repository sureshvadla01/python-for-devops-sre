{
 "cells": [
  {
   "cell_type": "code",
   "execution_count": null,
   "id": "b64bb71a",
   "metadata": {},
   "outputs": [],
   "source": [
    "'''\n",
    "the requests module is one of the most widely used and beginner-friendly Python libraries for making \n",
    "HTTP requests (GET, POST, PUT, DELETE, etc.) to web APIs or websites.\n",
    "What Is the requests Module?\n",
    "\n",
    "The requests library lets you send HTTP requests and interact with APIs easily.\n",
    "It handles:\n",
    "\n",
    "URLs\n",
    "Query parameters\n",
    "Headers\n",
    "Authentication\n",
    "JSON data\n",
    "Responses\n",
    "\n",
    "You install it with:\n",
    "pip install requests\n",
    "\n",
    "'''"
   ]
  },
  {
   "cell_type": "code",
   "execution_count": null,
   "id": "f0f3895a",
   "metadata": {},
   "outputs": [],
   "source": [
    "# Basic GET Request\n",
    "import requests\n",
    "\n",
    "response = requests.get(\"https://api.github.com\")\n",
    "print(response.status_code)\n",
    "print(response.text)\n",
    "\n",
    "# 200\n",
    "# { \"current_user_url\": \"https://api.github.com/user\", ... }\n"
   ]
  },
  {
   "cell_type": "code",
   "execution_count": null,
   "id": "65dce505",
   "metadata": {},
   "outputs": [],
   "source": [
    "# Check Response Information\n",
    "\n",
    "print(response.status_code)  # 200 = OK\n",
    "print(response.url)          # Final URL\n",
    "print(response.headers)      # Response headers\n",
    "print(response.encoding)     # Encoding\n"
   ]
  },
  {
   "cell_type": "code",
   "execution_count": null,
   "id": "fdb5a14e",
   "metadata": {},
   "outputs": [],
   "source": [
    "# Get JSON Response\n",
    "# Most APIs return JSON — easily parsed with .json()\n",
    "\n",
    "data = response.json()\n",
    "print(data[\"current_user_url\"])\n"
   ]
  },
  {
   "cell_type": "code",
   "execution_count": null,
   "id": "dde53a66",
   "metadata": {},
   "outputs": [],
   "source": [
    "# Send Query Parameters\n",
    "# You can add query strings (e.g., ?q=python&sort=stars) using params.\n",
    "\n",
    "params = {\"q\": \"python\", \"sort\": \"stars\"}\n",
    "response = requests.get(\"https://api.github.com/search/repositories\", params=params)\n",
    "print(response.url)\n",
    "\n",
    "# https://api.github.com/search/repositories?q=python&sort=stars\n"
   ]
  },
  {
   "cell_type": "code",
   "execution_count": null,
   "id": "74e259bb",
   "metadata": {},
   "outputs": [],
   "source": [
    "# POST Request (Send Data)\n",
    "\n",
    "payload = {\"username\": \"suresh\", \"password\": \"mypassword\"}\n",
    "response = requests.post(\"https://httpbin.org/post\", data=payload)\n",
    "print(response.text)\n",
    "\n",
    "# Sends form-encoded data (Content-Type: application/x-www-form-urlencoded).\n"
   ]
  },
  {
   "cell_type": "code",
   "execution_count": null,
   "id": "87f6d55e",
   "metadata": {},
   "outputs": [],
   "source": [
    "# POST JSON Data\n",
    "import json\n",
    "\n",
    "data = {\"name\": \"Alice\", \"age\": 25}\n",
    "response = requests.post(\"https://httpbin.org/post\", json=data)\n",
    "print(response.json())\n",
    "\n",
    "# Automatically sets Content-Type: application/json."
   ]
  },
  {
   "cell_type": "code",
   "execution_count": null,
   "id": "6fd88963",
   "metadata": {},
   "outputs": [],
   "source": [
    "# PUT and DELETE\n",
    "\n",
    "requests.put(\"https://httpbin.org/put\", data={\"key\": \"value\"})\n",
    "requests.delete(\"https://httpbin.org/delete\")\n"
   ]
  },
  {
   "cell_type": "code",
   "execution_count": null,
   "id": "f8f88997",
   "metadata": {},
   "outputs": [],
   "source": [
    "# Headers and Authentication\n",
    "\n",
    "headers = {\"Authorization\": \"Bearer <your-token>\"}\n",
    "response = requests.get(\"https://api.github.com/user\", headers=headers)\n",
    "print(response.status_code)\n",
    "\n",
    "# Common for APIs like Azure, AWS, GitHub, etc."
   ]
  },
  {
   "cell_type": "code",
   "execution_count": null,
   "id": "e6a9cc6e",
   "metadata": {},
   "outputs": [],
   "source": [
    "# Timeout and Error Handling\n",
    "# Always use timeout and handle exceptions properly.\n",
    "\n",
    "try:\n",
    "    response = requests.get(\"https://httpbin.org/delay/5\", timeout=3)\n",
    "    response.raise_for_status()\n",
    "    print(response.text)\n",
    "except requests.exceptions.Timeout:\n",
    "    print(\"Request timed out!\")\n",
    "except requests.exceptions.RequestException as e:\n",
    "    print(\"Error:\", e)\n",
    "\n",
    "# raise_for_status() raises an exception for 4xx/5xx errors."
   ]
  },
  {
   "cell_type": "code",
   "execution_count": null,
   "id": "704b8e3b",
   "metadata": {},
   "outputs": [],
   "source": [
    "# File Uploads and Downloads\n",
    "# Upload\n",
    "\n",
    "files = {\"file\": open(\"data.txt\", \"rb\")}\n",
    "r = requests.post(\"https://httpbin.org/post\", files=files)\n",
    "print(r.status_code)\n",
    "\n",
    "# Download\n",
    "r = requests.get(\"https://example.com/image.png\")\n",
    "with open(\"image.png\", \"wb\") as f:\n",
    "    f.write(r.content)\n"
   ]
  },
  {
   "cell_type": "code",
   "execution_count": null,
   "id": "af32b80d",
   "metadata": {},
   "outputs": [],
   "source": [
    "# Sessions (Keep Cookies / Login State)\n",
    "\n",
    "s = requests.Session()\n",
    "s.get(\"https://httpbin.org/cookies/set/sessioncookie/123456\")\n",
    "r = s.get(\"https://httpbin.org/cookies\")\n",
    "print(r.text)\n",
    "\n",
    "# Maintains cookies automatically (like a browser session)."
   ]
  },
  {
   "cell_type": "code",
   "execution_count": null,
   "id": "14ed6bf1",
   "metadata": {},
   "outputs": [],
   "source": [
    "'''\n",
    "| Property       | Description                  |\n",
    "| -------------- | ---------------------------- |\n",
    "| `.status_code` | HTTP status (200, 404, etc.) |\n",
    "| `.text`        | Response body (as string)    |\n",
    "| `.content`     | Raw bytes                    |\n",
    "| `.json()`      | Parse JSON                   |\n",
    "| `.url`         | Final URL                    |\n",
    "| `.headers`     | Response headers             |\n",
    "| `.cookies`     | Cookies received             |\n",
    "\n",
    "'''"
   ]
  },
  {
   "cell_type": "code",
   "execution_count": null,
   "id": "f1dc2821",
   "metadata": {},
   "outputs": [],
   "source": [
    "# Fetch Public IP\n",
    "r = requests.get(\"https://api.ipify.org?format=json\")\n",
    "print(\"Your IP:\", r.json()[\"ip\"])\n",
    "\n",
    "# Your IP: 103.21.245.33"
   ]
  },
  {
   "cell_type": "code",
   "execution_count": null,
   "id": "da9c2eda",
   "metadata": {},
   "outputs": [],
   "source": [
    "# Call GitHub API\n",
    "url = \"https://api.github.com/repos/python/cpython\"\n",
    "r = requests.get(url)\n",
    "repo = r.json()\n",
    "print(f\"{repo['name']} ⭐ {repo['stargazers_count']}\")\n",
    "\n",
    "\n",
    "# cpython ⭐ 60000\n"
   ]
  },
  {
   "cell_type": "code",
   "execution_count": null,
   "id": "f356fb65",
   "metadata": {},
   "outputs": [],
   "source": [
    "'''\n",
    "Summary Table\n",
    "| Action      | Method               | Example                |\n",
    "| ----------- | -------------------- | ---------------------- |\n",
    "| GET request | `requests.get()`     | Retrieve data          |\n",
    "| POST data   | `requests.post()`    | Send form or JSON      |\n",
    "| PUT data    | `requests.put()`     | Update resource        |\n",
    "| DELETE      | `requests.delete()`  | Remove resource        |\n",
    "| Add headers | `headers={}`         | Auth or custom headers |\n",
    "| Add params  | `params={}`          | Query strings          |\n",
    "| JSON        | `.json()`            | Parse API response     |\n",
    "| Timeout     | `timeout=5`          | Avoid hanging          |\n",
    "| Sessions    | `requests.Session()` | Maintain cookies       |\n",
    "\n",
    "\n",
    "When to Use It\n",
    "\n",
    "Access REST APIs (GitHub, AWS, Azure, etc.)\n",
    "Download/upload files\n",
    "Automate API monitoring or reporting\n",
    "Send webhooks or HTTP-based notifications\n",
    "'''"
   ]
  }
 ],
 "metadata": {
  "kernelspec": {
   "display_name": "Python 3",
   "language": "python",
   "name": "python3"
  },
  "language_info": {
   "name": "python",
   "version": "3.13.0"
  }
 },
 "nbformat": 4,
 "nbformat_minor": 5
}
