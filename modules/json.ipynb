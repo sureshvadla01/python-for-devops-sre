{
 "cells": [
  {
   "cell_type": "code",
   "execution_count": null,
   "id": "bc40ac87",
   "metadata": {},
   "outputs": [],
   "source": [
    "'''\n",
    "JSON (JavaScript Object Notation) is a lightweight format for storing and transferring data between systems — for example, between APIs, web apps, and files.\n",
    "It looks like a Python dictionary — but uses double quotes and a strict syntax.\n",
    "'''\n",
    "\n",
    "# Example JSON:\n",
    "\n",
    "{\n",
    "  \"name\": \"Alice\",\n",
    "  \"age\": 25,\n",
    "  \"is_student\": false,\n",
    "  \"skills\": [\"Python\", \"AWS\", \"Kubernetes\"]\n",
    "}\n"
   ]
  },
  {
   "cell_type": "code",
   "execution_count": null,
   "id": "574975bb",
   "metadata": {},
   "outputs": [],
   "source": [
    "# Python Object → JSON String (json.dumps)\n",
    "# Convert a Python object (like a dict or list) into a JSON-formatted string.\n",
    "\n",
    "import json\n",
    "\n",
    "data = {\n",
    "    \"name\": \"Alice\",\n",
    "    \"age\": 25,\n",
    "    \"skills\": [\"Python\", \"AWS\"]\n",
    "}\n",
    "\n",
    "json_str = json.dumps(data)\n",
    "print(json_str)\n",
    "\n",
    "# {\"name\": \"Alice\", \"age\": 25, \"skills\": [\"Python\", \"AWS\"]}\n",
    "\n",
    "json_str = json.dumps(data, indent=4, sort_keys=True)\n",
    "print(json_str)\n",
    "\n",
    "# {\n",
    "#     \"age\": 25,\n",
    "#     \"name\": \"Alice\",\n",
    "#     \"skills\": [\n",
    "#         \"Python\",\n",
    "#         \"AWS\"\n",
    "#     ]\n",
    "# }\n",
    "\n",
    "# | Parameter  | Description                            |\n",
    "# | -----------| -------------------------------------- |\n",
    "# | indent     | Pretty print with indentation          |\n",
    "# | sort_keys  | Sort keys alphabetically               |\n",
    "# | separators | Customize spacing (e.g., (\",\", \":\")) |\n"
   ]
  },
  {
   "cell_type": "code",
   "execution_count": null,
   "id": "bc230fe8",
   "metadata": {},
   "outputs": [],
   "source": [
    "# JSON String → Python Object (json.loads)\n",
    "# Convert JSON text back into a Python object.\n",
    "\n",
    "json_text = '{\"name\": \"Bob\", \"age\": 30, \"is_admin\": true}'\n",
    "data = json.loads(json_text)\n",
    "print(data)\n",
    "print(type(data))\n",
    "\n",
    "# {'name': 'Bob', 'age': 30, 'is_admin': True}\n",
    "# <class 'dict'>\n"
   ]
  },
  {
   "cell_type": "code",
   "execution_count": null,
   "id": "13302ea1",
   "metadata": {},
   "outputs": [],
   "source": [
    "# Write JSON to a File (json.dump)\n",
    "data = {\"name\": \"Alice\", \"city\": \"New York\"}\n",
    "\n",
    "with open(\"data.json\", \"w\") as f:\n",
    "    json.dump(data, f, indent=4)\n",
    "\n",
    "# Creates a file data.json with formatted JSON.\n"
   ]
  },
  {
   "cell_type": "code",
   "execution_count": null,
   "id": "53b1f5ff",
   "metadata": {},
   "outputs": [],
   "source": [
    "# Read JSON from a File (json.load)\n",
    "with open(\"data.json\", \"r\") as f:\n",
    "    info = json.load(f)\n",
    "    print(info)\n",
    "\n",
    "# {'name': 'Alice', 'city': 'New York'}\n"
   ]
  },
  {
   "cell_type": "code",
   "execution_count": null,
   "id": "669afae9",
   "metadata": {},
   "outputs": [],
   "source": [
    "# Convert Complex Objects (Custom Encoding)\n",
    "# By default, json supports:\n",
    "# dict, list, str, int, float, bool, None\n",
    "# If you need to serialize custom objects:\n",
    "\n",
    "class Person:\n",
    "    def __init__(self, name, age):\n",
    "        self.name = name\n",
    "        self.age = age\n",
    "\n",
    "p = Person(\"Alice\", 25)\n",
    "\n",
    "def encode_person(obj):\n",
    "    if isinstance(obj, Person):\n",
    "        return obj.__dict__\n",
    "    raise TypeError(\"Type not serializable\")\n",
    "\n",
    "json_str = json.dumps(p, default=encode_person)\n",
    "print(json_str)\n",
    "\n",
    "# {\"name\": \"Alice\", \"age\": 25}\n"
   ]
  },
  {
   "cell_type": "code",
   "execution_count": null,
   "id": "553d753b",
   "metadata": {},
   "outputs": [],
   "source": [
    "# Decode JSON into Custom Object\n",
    "\n",
    "def decode_person(d):\n",
    "    return Person(d[\"name\"], d[\"age\"])\n",
    "\n",
    "person_obj = json.loads('{\"name\": \"Bob\", \"age\": 30}', object_hook=decode_person)\n",
    "print(person_obj.name)\n",
    "\n",
    "# Bob\n"
   ]
  },
  {
   "cell_type": "code",
   "execution_count": null,
   "id": "21241773",
   "metadata": {},
   "outputs": [],
   "source": [
    "# Real-World Example — Working with an API Response\n",
    "import requests, json\n",
    "\n",
    "response = requests.get(\"https://api.github.com\")\n",
    "data = response.json()  # directly converts to Python dict\n",
    "\n",
    "print(json.dumps(data, indent=2))\n"
   ]
  },
  {
   "cell_type": "code",
   "execution_count": null,
   "id": "64c619b2",
   "metadata": {},
   "outputs": [],
   "source": [
    "'''\n",
    "| Operation                          | Function     | Direction     | Example            |\n",
    "| ---------------------------------- | ------------ | ------------- | ------------------ |\n",
    "| Serialize (object → JSON string)   | json.dumps() | Python → JSON | json.dumps(data)   |\n",
    "| Deserialize (JSON string → object) | json.loads() | JSON → Python | json.loads(text)   |\n",
    "| Write JSON to file                 | json.dump()  | Python → file | json.dump(data, f) |\n",
    "| Read JSON from file                | json.load()  | file → Python | json.load(f)       |\n",
    "'''"
   ]
  },
  {
   "cell_type": "code",
   "execution_count": null,
   "id": "295e37bb",
   "metadata": {},
   "outputs": [],
   "source": [
    "#JSON → Python dictionary\n",
    "import json\n",
    "json_str = '{ \"name\": \"Alice\", \"age\": 25 }'\n",
    "data = json.loads(json_str)\n",
    "\n",
    "# Python dictionary → JSON\n",
    "import json\n",
    "python_dict = { \"name\": \"Bob\", \"age\": 30 }\n",
    "json_str = json.dumps(python_dict)"
   ]
  },
  {
   "cell_type": "code",
   "execution_count": null,
   "id": "7bfab2a3",
   "metadata": {},
   "outputs": [],
   "source": [
    "data= '''\n",
    "{\n",
    "  \"name\": \"Alice\",\n",
    "  \"age\": 25,\n",
    "  \"is_student\": false,\n",
    "  \"courses\": [\"Math\", \"Science\"],\n",
    "  \"address\": {\n",
    "    \"city\": \"New York\",\n",
    "    \"zip\": \"10001\"\n",
    "  }\n",
    "}\n",
    "'''\n",
    "print(data)\n",
    "\n",
    "'''\n",
    "#output\n",
    "{\n",
    "  \"name\": \"Alice\",\n",
    "  \"age\": 25,\n",
    "  \"is_student\": false,\n",
    "  \"courses\": [\"Math\", \"Science\"],\n",
    "  \"address\": {\n",
    "    \"city\": \"New York\",\n",
    "    \"zip\": \"10001\"\n",
    "  }\n",
    "}\n",
    "'''\n",
    "import json\n",
    "\n",
    "data=json.loads(data)\n",
    "\n",
    "print(data['address']['city'],data['courses'][0]) #New York Math\n",
    "print(data['address']['city'],data['courses'][0]) #New York Math\n",
    "print(list((data['name'],data['address']['city'],data['courses'][0]))) #['Alice', 'New York', 'Math']\n",
    "\n",
    "\n",
    "#{'name': 'Alice', 'age': 25, 'is_student': False, 'courses': ['Math', 'Science'], 'address': {'city': 'New York', 'zip': '10001'}}"
   ]
  },
  {
   "cell_type": "code",
   "execution_count": null,
   "id": "308d4309",
   "metadata": {},
   "outputs": [],
   "source": [
    "json = '{ \"name\" : \"Kiran\", \"Age\" : 29}'\n",
    "print(json)\n",
    "dict = { \"name\" : \"Kiran\", \"Age\" : 29}\n",
    "print(dict)\n"
   ]
  }
 ],
 "metadata": {
  "kernelspec": {
   "display_name": "Python 3",
   "language": "python",
   "name": "python3"
  },
  "language_info": {
   "codemirror_mode": {
    "name": "ipython",
    "version": 3
   },
   "file_extension": ".py",
   "mimetype": "text/x-python",
   "name": "python",
   "nbconvert_exporter": "python",
   "pygments_lexer": "ipython3",
   "version": "3.13.0"
  }
 },
 "nbformat": 4,
 "nbformat_minor": 5
}
