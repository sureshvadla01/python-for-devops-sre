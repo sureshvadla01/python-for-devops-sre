{
 "cells": [
  {
   "cell_type": "code",
   "execution_count": null,
   "id": "85439bca",
   "metadata": {},
   "outputs": [],
   "source": [
    "# os module\n",
    "'''\n",
    "The os module lets your Python code talk to the operating system —\n",
    "for tasks like:\n",
    "Managing files and folders\n",
    "Running shell commands\n",
    "Checking environment variables\n",
    "Navigating directories\n",
    "You just import it:\n",
    "import os\n",
    "'''"
   ]
  },
  {
   "cell_type": "code",
   "execution_count": null,
   "id": "80388494",
   "metadata": {},
   "outputs": [],
   "source": [
    "# Get Current Working Directory\n",
    "import os\n",
    "print(os.getcwd())\n",
    "\n",
    "# /Users/name/projects"
   ]
  },
  {
   "cell_type": "code",
   "execution_count": null,
   "id": "bee52d22",
   "metadata": {},
   "outputs": [],
   "source": [
    "# Change Directory\n",
    "os.chdir(\"/Users/ram/Desktop\")\n",
    "print(os.getcwd())\n"
   ]
  },
  {
   "cell_type": "code",
   "execution_count": null,
   "id": "5f0c25de",
   "metadata": {},
   "outputs": [],
   "source": [
    "# List Files and Folders\n",
    "files = os.listdir(\".\")\n",
    "print(files)\n",
    "\n",
    "# ['file1.txt', 'data.csv', 'images']\n"
   ]
  },
  {
   "cell_type": "code",
   "execution_count": null,
   "id": "cbc99ef1",
   "metadata": {},
   "outputs": [],
   "source": [
    "# Create and Remove Folders\n",
    "\n",
    "os.mkdir(\"new_folder\")        # create one\n",
    "os.makedirs(\"a/b/c\")          # create nested folders\n",
    "\n",
    "os.rmdir(\"new_folder\")        # remove empty folder\n",
    "os.removedirs(\"a/b/c\")        # remove nested\n",
    "\n",
    "# os.rmdir() fails if the folder isn’t empty."
   ]
  },
  {
   "cell_type": "code",
   "execution_count": null,
   "id": "62c08c45",
   "metadata": {},
   "outputs": [],
   "source": [
    "# Check if File or Folder Exists\n",
    "\n",
    "path = \"example.txt\"\n",
    "\n",
    "if os.path.exists(path):\n",
    "    print(\"Exists\")\n",
    "else:\n",
    "    print(\"Not found\")\n",
    "\n",
    "os.path.isfile(path)\n",
    "os.path.isdir(path)\n"
   ]
  },
  {
   "cell_type": "code",
   "execution_count": null,
   "id": "7497dbfb",
   "metadata": {},
   "outputs": [],
   "source": [
    "# Join Paths Safely\n",
    "# Works across Windows, macOS, Linux:\n",
    "\n",
    "path = os.path.join(\"folder\", \"subfolder\", \"file.txt\")\n",
    "print(path)\n",
    "\n",
    "# folder/subfolder/file.txt   # Linux/macOS\n",
    "# folder\\subfolder\\file.txt   # Windows\n"
   ]
  },
  {
   "cell_type": "code",
   "execution_count": null,
   "id": "f40d536f",
   "metadata": {},
   "outputs": [],
   "source": [
    "# Get File Info\n",
    "info = os.stat(\"example.txt\")\n",
    "print(info.st_size)   # file size in bytes\n"
   ]
  },
  {
   "cell_type": "code",
   "execution_count": null,
   "id": "fc611082",
   "metadata": {},
   "outputs": [],
   "source": [
    "# Rename or Delete Files\n",
    "os.rename(\"old.txt\", \"new.txt\")\n",
    "os.remove(\"new.txt\")\n"
   ]
  },
  {
   "cell_type": "code",
   "execution_count": null,
   "id": "69a96096",
   "metadata": {},
   "outputs": [],
   "source": [
    "# Run Shell Commands\n",
    "os.system(\"ls -l\")       # Linux/Mac\n"
   ]
  },
  {
   "cell_type": "code",
   "execution_count": null,
   "id": "cab97edd",
   "metadata": {},
   "outputs": [],
   "source": [
    "# Environment Variables\n",
    "print(os.environ[\"HOME\"])        # access\n",
    "os.environ[\"APP_ENV\"] = \"dev\"    # set new variable\n",
    "print(os.getenv(\"APP_ENV\"))      # safe access\n",
    "\n",
    "# Great for secrets, configs, or CI/CD automation."
   ]
  },
  {
   "cell_type": "code",
   "execution_count": null,
   "id": "02e73128",
   "metadata": {},
   "outputs": [],
   "source": [
    "# Get Absolute Path\n",
    "print(os.path.abspath(\"example.txt\"))\n"
   ]
  },
  {
   "cell_type": "code",
   "execution_count": null,
   "id": "3f56e244",
   "metadata": {},
   "outputs": [],
   "source": [
    "# Walk Through Directory Tree\n",
    "for root, dirs, files in os.walk(\".\"):\n",
    "    print(\"Current path:\", root)\n",
    "    print(\"Directories:\", dirs)\n",
    "    print(\"Files:\", files)\n",
    "    \n",
    "# Useful for scanning all subfolders (e.g., DevOps cleanup or log parser).\n"
   ]
  },
  {
   "cell_type": "code",
   "execution_count": null,
   "id": "9ac684ae",
   "metadata": {},
   "outputs": [],
   "source": [
    "# Get Platform Info\n",
    "import os, platform\n",
    "print(os.name)         # 'posix' (Linux/Mac) or 'nt' (Windows)\n",
    "print(platform.system())  # 'Linux', 'Windows', 'Darwin'\n"
   ]
  },
  {
   "cell_type": "code",
   "execution_count": null,
   "id": "4d84cfde",
   "metadata": {},
   "outputs": [],
   "source": [
    "# Clean up all .log files in a directory:\n",
    "\n",
    "import os\n",
    "\n",
    "for root, dirs, files in os.walk(\".\"):\n",
    "    for file in files:\n",
    "        if file.endswith(\".log\"):\n",
    "            full_path = os.path.join(root, file)\n",
    "            os.remove(full_path)\n",
    "            print(f\"Deleted: {full_path}\")\n"
   ]
  },
  {
   "cell_type": "code",
   "execution_count": null,
   "id": "fc54cf08",
   "metadata": {},
   "outputs": [],
   "source": [
    "'''\n",
    "| Task                 | Function                    | Example            |\n",
    "| -------------------- | --------------------------- | ------------------ |\n",
    "| Get current dir      | `os.getcwd()`               | Current location   |\n",
    "| Change dir           | `os.chdir(path)`            | Move to folder     |\n",
    "| List files           | `os.listdir()`              | Show contents      |\n",
    "| Create/remove folder | `os.mkdir()`, `os.rmdir()`  | Manage directories |\n",
    "| Check path           | `os.path.exists()`          | True/False         |\n",
    "| Join paths           | `os.path.join()`            | Cross-platform     |\n",
    "| File info            | `os.stat()`                 | Size, timestamps   |\n",
    "| Run commands         | `os.system()`               | Shell commands     |\n",
    "| Env variables        | `os.environ`, `os.getenv()` | Access system vars |\n",
    "| Walk dirs            | `os.walk()`                 | Traverse folders   |\n",
    "\n",
    "'''\n",
    "\n",
    "# subprocess (a safer, more powerful way to run shell commands and capture output)"
   ]
  }
 ],
 "metadata": {
  "language_info": {
   "name": "python"
  }
 },
 "nbformat": 4,
 "nbformat_minor": 5
}
