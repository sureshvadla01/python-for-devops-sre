{
 "cells": [
  {
   "cell_type": "code",
   "execution_count": null,
   "id": "fb6c4eb3",
   "metadata": {},
   "outputs": [],
   "source": [
    "# the shutil module in Python is your go-to toolkit for high-level file operations — copying, moving, deleting, and archiving files and directories.\n",
    "# It’s like an “advanced” version of the os module, made for file and folder management.\n",
    "\n",
    "'''\n",
    "The name stands for Shell Utilities — it provides functions to copy, move, remove, and compress files or entire directory trees.\n",
    "'''"
   ]
  },
  {
   "cell_type": "code",
   "execution_count": null,
   "id": "dba9ad78",
   "metadata": {},
   "outputs": [],
   "source": [
    "# Copy a File\n",
    "import shutil\n",
    "shutil.copy(\"source.txt\", \"backup.txt\")\n",
    "\n",
    "# Copies contents of source.txt → backup.txt.\n",
    "# Keeps permissions but not metadata (timestamps).\n"
   ]
  },
  {
   "cell_type": "code",
   "execution_count": null,
   "id": "c7d56ed9",
   "metadata": {},
   "outputs": [],
   "source": [
    "# Copy a File With Metadata\n",
    "shutil.copy2(\"source.txt\", \"backup.txt\")\n",
    "\n",
    "# Copies file and preserves metadata (like modification time, permissions)."
   ]
  },
  {
   "cell_type": "code",
   "execution_count": null,
   "id": "89c17c80",
   "metadata": {},
   "outputs": [],
   "source": [
    "# Copy an Entire Folder\n",
    "shutil.copytree(\"data\", \"data_backup\")\n",
    "\n",
    "# Recursively copies a directory and all its contents.\n",
    "# The destination folder must not already exist (Python 3.7+ allows dirs_exist_ok=True).\n",
    "\n",
    "shutil.copytree(\"data\", \"data_backup\", dirs_exist_ok=True)\n"
   ]
  },
  {
   "cell_type": "code",
   "execution_count": null,
   "id": "f5b98556",
   "metadata": {},
   "outputs": [],
   "source": [
    "# Move or Rename Files/Folders\n",
    "shutil.move(\"data_backup\", \"archives/data_backup_2025\")\n",
    "\n",
    "# Moves (or renames) files/directories. Works across different drives and partitions."
   ]
  },
  {
   "cell_type": "code",
   "execution_count": null,
   "id": "ece01014",
   "metadata": {},
   "outputs": [],
   "source": [
    "# Delete a Folder Recursively\n",
    "\n",
    "shutil.rmtree(\"old_logs\")\n",
    "\n",
    "# Deletes an entire directory tree (like rm -rf). ⚠️ Be careful — it permanently removes all contents."
   ]
  },
  {
   "cell_type": "code",
   "execution_count": null,
   "id": "1dc35c27",
   "metadata": {},
   "outputs": [],
   "source": [
    "# Create Archives (zip, tar, gztar, etc.)\n",
    "shutil.make_archive(\"backup\", \"zip\", \"data\")\n",
    "\n",
    "# Creates backup.zip containing everything in the data folder.\n",
    "# You can also use other formats:\n",
    "\n",
    "shutil.make_archive(\"backup\", \"gztar\", \"data\")  # .tar.gz\n"
   ]
  },
  {
   "cell_type": "code",
   "execution_count": null,
   "id": "dfe95852",
   "metadata": {},
   "outputs": [],
   "source": [
    "# Extract Archives\n",
    "\n",
    "shutil.unpack_archive(\"backup.zip\", \"extracted_data\")\n",
    "\n",
    "# Extracts archive contents into a folder."
   ]
  },
  {
   "cell_type": "code",
   "execution_count": null,
   "id": "51fbf731",
   "metadata": {},
   "outputs": [],
   "source": [
    "# Disk Usage Info\n",
    "usage = shutil.disk_usage(\"/\")\n",
    "print(\"Total:\", usage.total // (2**30), \"GB\")\n",
    "print(\"Used:\", usage.used // (2**30), \"GB\")\n",
    "print(\"Free:\", usage.free // (2**30), \"GB\")\n",
    "\n",
    "# Total: 500 GB\n",
    "# Used: 200 GB\n",
    "# Free: 300 GB\n"
   ]
  },
  {
   "cell_type": "code",
   "execution_count": null,
   "id": "962f373b",
   "metadata": {},
   "outputs": [],
   "source": [
    "# Which Executable is Running\n",
    "# Find the full path of an executable in your system’s PATH:\n",
    "\n",
    "print(shutil.which(\"python\"))\n",
    "\n",
    "# /usr/bin/python\n"
   ]
  },
  {
   "cell_type": "code",
   "execution_count": null,
   "id": "9e2dcdaa",
   "metadata": {},
   "outputs": [],
   "source": [
    "# Copy File Permissions or Mode Only\n",
    "shutil.copymode(\"source.txt\", \"target.txt\")    # Only mode (permissions)\n",
    "shutil.copystat(\"source.txt\", \"target.txt\")    # Mode + timestamps\n"
   ]
  },
  {
   "cell_type": "code",
   "execution_count": null,
   "id": "715845af",
   "metadata": {},
   "outputs": [],
   "source": [
    "'''\n",
    "| Task               | Function           | Example                                        |\n",
    "| ------------------ | ------------------ | ---------------------------------------------- |\n",
    "| Copy file          | `copy()`           | `shutil.copy(\"a.txt\", \"b.txt\")`                |\n",
    "| Copy with metadata | `copy2()`          | `shutil.copy2(\"a.txt\", \"b.txt\")`               |\n",
    "| Copy entire folder | `copytree()`       | `shutil.copytree(\"src\", \"dest\")`               |\n",
    "| Move / rename      | `move()`           | `shutil.move(\"a.txt\", \"folder/\")`              |\n",
    "| Delete folder      | `rmtree()`         | `shutil.rmtree(\"old/\")`                        |\n",
    "| Zip folder         | `make_archive()`   | `shutil.make_archive(\"backup\", \"zip\", \"data\")` |\n",
    "| Unzip / extract    | `unpack_archive()` | `shutil.unpack_archive(\"backup.zip\")`          |\n",
    "| Disk info          | `disk_usage()`     | `shutil.disk_usage(\"/\")`                       |\n",
    "| Find executable    | `which()`          | `shutil.which(\"python\")`                       |\n",
    "\n",
    "'''"
   ]
  },
  {
   "cell_type": "code",
   "execution_count": null,
   "id": "2c31ab6d",
   "metadata": {},
   "outputs": [],
   "source": [
    "# Backup Automation\n",
    "\n",
    "import shutil\n",
    "import datetime\n",
    "\n",
    "source = \"project/\"\n",
    "timestamp = datetime.datetime.now().strftime(\"%Y%m%d_%H%M\")\n",
    "backup_name = f\"backup_{timestamp}\"\n",
    "\n",
    "shutil.make_archive(backup_name, \"zip\", source)\n",
    "print(f\"Backup created: {backup_name}.zip\")\n",
    "\n"
   ]
  },
  {
   "cell_type": "code",
   "execution_count": null,
   "id": "2e3b9b84",
   "metadata": {},
   "outputs": [],
   "source": [
    "# Clean Temp Folder\n",
    "import shutil, os\n",
    "\n",
    "temp_dir = \"temp_files\"\n",
    "if os.path.exists(temp_dir):\n",
    "    shutil.rmtree(temp_dir)\n",
    "    print(\"Temporary files deleted.\")\n"
   ]
  },
  {
   "cell_type": "code",
   "execution_count": null,
   "id": "2f7a3e0c",
   "metadata": {},
   "outputs": [],
   "source": [
    "# Copy Configs Between Servers (example path)\n",
    "import shutil\n",
    "\n",
    "shutil.copy2(\"/etc/nginx/nginx.conf\", \"/backup/nginx.conf\")\n",
    "print(\"Config backup complete.\")\n",
    "\n",
    "\n",
    "# The os module handles low-level path & file existence,\n",
    "# while the shutil module handles high-level file/folder management (copy, move, archive, delete)."
   ]
  }
 ],
 "metadata": {
  "language_info": {
   "name": "python"
  }
 },
 "nbformat": 4,
 "nbformat_minor": 5
}
