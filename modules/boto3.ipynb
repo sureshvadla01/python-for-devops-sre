{
 "cells": [
  {
   "cell_type": "code",
   "execution_count": null,
   "id": "314e21ea",
   "metadata": {},
   "outputs": [],
   "source": [
    "'''\n",
    "boto3 module is the official AWS SDK for Python, \n",
    "and it’s one of the most powerful libraries for automating AWS services like EC2, S3, IAM, Lambda, CloudWatch, etc.\n",
    "\n",
    "boto3 allows Python code to create, configure, and manage AWS resources.\n",
    "It’s like having the AWS Console in your Python scripts or automation workflows.\n",
    "\n",
    "pip install boto3\n",
    "import boto3\n",
    "\n",
    "| Interface    | Description                             | Example                     |\n",
    "| ------------ | --------------------------------------- | --------------------------- |\n",
    "| Client       | Low-level access (direct AWS API calls) |  s3 = boto3.client('s3')   |\n",
    "| Resource     | High-level, object-oriented API         |  s3 = boto3.resource('s3') |\n",
    "\n",
    "'''\n",
    "\n",
    "'''\n",
    "Authentication\n",
    "\n",
    "boto3 automatically finds your AWS credentials from:\n",
    "aws configure (CLI)\n",
    "Environment variables\n",
    "(AWS_ACCESS_KEY_ID, AWS_SECRET_ACCESS_KEY)\n",
    "IAM roles (EC2, Lambda, etc.)\n",
    "Shared credentials file (~/.aws/credentials)\n",
    "\n",
    "Example:\n",
    "aws configure\n",
    "Creates ~/.aws/credentials with your keys.\n",
    "\n",
    "'''"
   ]
  },
  {
   "cell_type": "code",
   "execution_count": null,
   "id": "07210770",
   "metadata": {},
   "outputs": [],
   "source": [
    "# List S3 Buckets\n",
    "\n",
    "import boto3\n",
    "\n",
    "s3 = boto3.client('s3')\n",
    "response = s3.list_buckets()\n",
    "\n",
    "for bucket in response['Buckets']:\n",
    "    print(bucket['Name'])\n",
    "\n",
    "# my-data-bucket\n",
    "# project-logs\n"
   ]
  },
  {
   "cell_type": "code",
   "execution_count": null,
   "id": "7f698071",
   "metadata": {},
   "outputs": [],
   "source": [
    "# Upload / Download Files (S3)\n",
    "\n",
    "s3 = boto3.client('s3')\n",
    "\n",
    "# Upload\n",
    "s3.upload_file(\"local.txt\", \"my-bucket\", \"backup/local.txt\")\n",
    "\n",
    "# Download\n",
    "s3.download_file(\"my-bucket\", \"backup/local.txt\", \"restored.txt\")\n",
    "\n",
    "# Common for backups, logs, data pipelines."
   ]
  },
  {
   "cell_type": "code",
   "execution_count": null,
   "id": "8a661595",
   "metadata": {},
   "outputs": [],
   "source": [
    "# Using S3 Resource (Object-Oriented)\n",
    "\n",
    "s3 = boto3.resource('s3')\n",
    "\n",
    "bucket = s3.Bucket('my-bucket')\n",
    "for obj in bucket.objects.all():\n",
    "    print(obj.key)\n",
    "\n",
    "\n",
    "# data/file1.txt\n",
    "# data/file2.csv\n"
   ]
  },
  {
   "cell_type": "code",
   "execution_count": null,
   "id": "7150c782",
   "metadata": {},
   "outputs": [],
   "source": [
    "# EC2 Example – List Instances\n",
    "\n",
    "ec2 = boto3.client('ec2')\n",
    "\n",
    "for instance in ec2.describe_instances()['Reservations']:\n",
    "    for i in instance['Instances']:\n",
    "        print(i['InstanceId'], i['State']['Name'])\n",
    "\n",
    "# i-12345abc9f2a1234 running\n",
    "# i-12345abc9f2a1234 stopped\n"
   ]
  },
  {
   "cell_type": "code",
   "execution_count": null,
   "id": "b890b75f",
   "metadata": {},
   "outputs": [],
   "source": [
    "# Start or Stop an EC2 Instance\n",
    "\n",
    "ec2 = boto3.client('ec2')\n",
    "\n",
    "# Start instance\n",
    "ec2.start_instances(InstanceIds=['i-12345abc9f2a1234'])\n",
    "\n",
    "# Stop instance\n",
    "ec2.stop_instances(InstanceIds=['i-12345abc9f2a1234'])\n"
   ]
  },
  {
   "cell_type": "code",
   "execution_count": null,
   "id": "89698ac2",
   "metadata": {},
   "outputs": [],
   "source": [
    "# IAM Example – List Users\n",
    "iam = boto3.client('iam')\n",
    "\n",
    "for user in iam.list_users()['Users']:\n",
    "    print(user['UserName'])\n",
    "\n",
    "# admin\n",
    "# devops-engineer\n"
   ]
  },
  {
   "cell_type": "code",
   "execution_count": null,
   "id": "76192034",
   "metadata": {},
   "outputs": [],
   "source": [
    "# CloudWatch Example – List Metrics\n",
    "\n",
    "cloudwatch = boto3.client('cloudwatch')\n",
    "\n",
    "metrics = cloudwatch.list_metrics(Namespace='AWS/EC2')\n",
    "for m in metrics['Metrics'][:5]:\n",
    "    print(m)\n",
    "\n",
    "# {'Namespace': 'AWS/EC2', 'MetricName': 'CPUUtilization', 'Dimensions': [{'Name': 'InstanceId', 'Value': 'i-0123...'}]}\n"
   ]
  },
  {
   "cell_type": "code",
   "execution_count": null,
   "id": "e1e45865",
   "metadata": {},
   "outputs": [],
   "source": [
    "# Lambda Example – Invoke Function\n",
    "lambda_client = boto3.client('lambda')\n",
    "\n",
    "response = lambda_client.invoke(\n",
    "    FunctionName='myLambdaFunction',\n",
    "    InvocationType='RequestResponse',\n",
    "    Payload=b'{\"key\": \"value\"}'\n",
    ")\n",
    "\n",
    "print(response['Payload'].read().decode())\n"
   ]
  },
  {
   "cell_type": "code",
   "execution_count": null,
   "id": "ebf39225",
   "metadata": {},
   "outputs": [],
   "source": [
    "# Create a New S3 Bucket\n",
    "s3 = boto3.client('s3')\n",
    "s3.create_bucket(Bucket='new-bucket-example-2025')\n"
   ]
  },
  {
   "cell_type": "code",
   "execution_count": null,
   "id": "a503a813",
   "metadata": {},
   "outputs": [],
   "source": [
    "# Working with Regions\n",
    "ec2 = boto3.client('ec2', region_name='us-east-1')\n"
   ]
  },
  {
   "cell_type": "code",
   "execution_count": null,
   "id": "ffeb596f",
   "metadata": {},
   "outputs": [],
   "source": [
    "# Error Handling\n",
    "# Always use botocore.exceptions for clean error handling.\n",
    "\n",
    "from botocore.exceptions import NoCredentialsError, ClientError\n",
    "\n",
    "try:\n",
    "    s3.upload_file(\"local.txt\", \"my-bucket\", \"data/local.txt\")\n",
    "except FileNotFoundError:\n",
    "    print(\"File not found!\")\n",
    "except NoCredentialsError:\n",
    "    print(\"Credentials not available!\")\n",
    "except ClientError as e:\n",
    "    print(\"AWS Error:\", e)\n"
   ]
  },
  {
   "cell_type": "code",
   "execution_count": null,
   "id": "5166367c",
   "metadata": {},
   "outputs": [],
   "source": [
    "# Pagination Example (Large Results)\n",
    "\n",
    "ec2 = boto3.client('ec2')\n",
    "paginator = ec2.get_paginator('describe_instances')\n",
    "\n",
    "for page in paginator.paginate():\n",
    "    for reservation in page['Reservations']:\n",
    "        for instance in reservation['Instances']:\n",
    "            print(instance['InstanceId'])\n"
   ]
  },
  {
   "cell_type": "code",
   "execution_count": null,
   "id": "3701ccb8",
   "metadata": {},
   "outputs": [],
   "source": [
    "'''\n",
    "| Category            | Example                                     | Description               |\n",
    "| ------------------- | ------------------------------------------- | ------------------------- |\n",
    "| **Setup**           | `boto3.client('s3')`                        | Create AWS service client |\n",
    "| **List resources**  | `.list_buckets()` / `.describe_instances()` | Retrieve AWS resources    |\n",
    "| **Modify**          | `.start_instances()`, `.create_bucket()`    | Manage resources          |\n",
    "| **Upload/Download** | `upload_file()` / `download_file()`         | File operations           |\n",
    "| **Error Handling**  | `try...except ClientError`                  | Handle AWS errors         |\n",
    "| **Authentication**  | `aws configure`                             | Secure access             |\n",
    "\n",
    "'''"
   ]
  },
  {
   "cell_type": "code",
   "execution_count": null,
   "id": "8f137ae4",
   "metadata": {},
   "outputs": [],
   "source": [
    "# Real-World DevOps Example — Backup to S3\n",
    "import boto3\n",
    "import shutil\n",
    "from datetime import datetime\n",
    "\n",
    "s3 = boto3.client(\"s3\")\n",
    "\n",
    "# Create local zip backup\n",
    "backup_name = f\"backup_{datetime.now().strftime('%Y%m%d_%H%M')}.zip\"\n",
    "shutil.make_archive(\"logs_backup\", \"zip\", \"logs\")\n",
    "\n",
    "# Upload to S3\n",
    "s3.upload_file(\"logs_backup.zip\", \"my-backup-bucket\", backup_name)\n",
    "print(\"Backup uploaded to S3!\")\n"
   ]
  }
 ],
 "metadata": {
  "language_info": {
   "name": "python"
  }
 },
 "nbformat": 4,
 "nbformat_minor": 5
}
