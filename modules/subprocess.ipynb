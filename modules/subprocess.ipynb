{
 "cells": [
  {
   "cell_type": "code",
   "execution_count": null,
   "id": "3ac8f389",
   "metadata": {},
   "outputs": [],
   "source": [
    "'''\n",
    "the subprocess module is one of the most powerful tools in Python for interacting with the system shell (OS commands) — better and safer than os.system().\n",
    "The subprocess module lets Python run other programs or shell commands —\n",
    "and even capture their outputs, errors, and exit codes.\n",
    "\n",
    "You can think of it as:\n",
    "\n",
    "\"Let Python act like a shell — but safely.\"\n",
    "\n",
    "import subprocess\n",
    "subprocess.run(command, ...)\n",
    "'''"
   ]
  },
  {
   "cell_type": "code",
   "execution_count": null,
   "id": "1d518030",
   "metadata": {},
   "outputs": [],
   "source": [
    "# Run a Simple Command\n",
    "import subprocess\n",
    "\n",
    "subprocess.run([\"echo\", \"Hello, World!\"])\n",
    "\n",
    "# Hello, World!\n",
    "\n",
    "# [\"echo\", \"Hello, World!\"] → list of command and its arguments\n",
    "# It runs safely without invoking a shell directly.\n"
   ]
  },
  {
   "cell_type": "code",
   "execution_count": null,
   "id": "5e1e97b1",
   "metadata": {},
   "outputs": [],
   "source": [
    "# Capture Output\n",
    "# To store command output (instead of just printing it):\n",
    "result = subprocess.run(\n",
    "    [\"echo\", \"Python is awesome!\"],\n",
    "    capture_output=True,\n",
    "    text=True\n",
    ")\n",
    "print(result.stdout)\n",
    "\n",
    "# Python is awesome!\n",
    "\n",
    "'''\n",
    "capture_output=True → captures both stdout and stderr\n",
    "text=True → decodes bytes to string automatically\n",
    "result.stdout → standard output\n",
    "result.stderr → standard error\n",
    "result.returncode → exit code (0 means success)\n",
    "'''"
   ]
  },
  {
   "cell_type": "code",
   "execution_count": null,
   "id": "469492ac",
   "metadata": {},
   "outputs": [],
   "source": [
    "# Run a Shell Command\n",
    "# If you want to use shell features (like pipes or wildcards *):\n",
    "\n",
    "subprocess.run(\"ls -l | grep py\", shell=True)\n",
    "\n",
    "# -rw-r--r--  1 user  staff  1234  1.py\n"
   ]
  },
  {
   "cell_type": "code",
   "execution_count": null,
   "id": "9baf35d2",
   "metadata": {},
   "outputs": [],
   "source": [
    "# Handle Errors Gracefully\n",
    "result = subprocess.run([\"ls\", \"nonexistent.txt\"], capture_output=True, text=True)\n",
    "print(\"Exit code:\", result.returncode)\n",
    "print(\"Error:\", result.stderr)\n",
    "\n",
    "# Exit code: 1\n",
    "# Error: ls: cannot access 'nonexistent.txt': No such file or directory\n"
   ]
  },
  {
   "cell_type": "code",
   "execution_count": null,
   "id": "bcd42397",
   "metadata": {},
   "outputs": [],
   "source": [
    "# Check for Success Automatically\n",
    "# If you want Python to raise an exception when the command fails:\n",
    "\n",
    "subprocess.run([\"ls\", \"nonexistent.txt\"], check=True)\n",
    "\n",
    "# subprocess.CalledProcessError: Command '['ls', 'nonexistent.txt']' returned non-zero exit status 1.\n"
   ]
  },
  {
   "cell_type": "code",
   "execution_count": null,
   "id": "ccd26d12",
   "metadata": {},
   "outputs": [],
   "source": [
    "# Get Command Output Directly\n",
    "# Shortcut using subprocess.check_output():\n",
    "\n",
    "output = subprocess.check_output([\"date\"], text=True)\n",
    "print(output)\n",
    "\n",
    "# Wed Oct 08 07:10:42 2025\n"
   ]
  },
  {
   "cell_type": "code",
   "execution_count": null,
   "id": "ba68605b",
   "metadata": {},
   "outputs": [],
   "source": [
    "# Pass Input to a Command\n",
    "# You can send data to a command’s stdin:\n",
    "\n",
    "result = subprocess.run(\n",
    "    [\"grep\", \"Python\"],\n",
    "    input=\"Python is cool\\nJava is okay\\n\",\n",
    "    text=True,\n",
    "    capture_output=True\n",
    ")\n",
    "print(result.stdout)\n",
    "\n",
    "# Python is cool\n"
   ]
  },
  {
   "cell_type": "code",
   "execution_count": null,
   "id": "a5637286",
   "metadata": {},
   "outputs": [],
   "source": [
    "# Environment Variables\n",
    "import os, subprocess\n",
    "\n",
    "my_env = os.environ.copy()\n",
    "my_env[\"MODE\"] = \"DEV\"\n",
    "\n",
    "subprocess.run([\"printenv\", \"MODE\"], env=my_env)\n",
    "\n",
    "# DEV\n"
   ]
  },
  {
   "cell_type": "code",
   "execution_count": null,
   "id": "202804c0",
   "metadata": {},
   "outputs": [],
   "source": [
    "# Run Python Code as a Subprocess\n",
    "subprocess.run([\"python3\", \"-c\", \"print('Hello from subprocess')\"])\n",
    "\n",
    "# Hello from subprocess\n",
    "\n"
   ]
  },
  {
   "cell_type": "code",
   "execution_count": null,
   "id": "0828c3c2",
   "metadata": {},
   "outputs": [],
   "source": [
    "# Redirect Output to a File\n",
    "with open(\"output.txt\", \"w\") as f:\n",
    "    subprocess.run([\"echo\", \"Save this text to file\"], stdout=f)\n",
    "\n",
    "# Writes to output.txt."
   ]
  },
  {
   "cell_type": "code",
   "execution_count": null,
   "id": "f3d55a2f",
   "metadata": {},
   "outputs": [],
   "source": [
    "'''\n",
    "| Function              | Description                          | Example                             |\n",
    "| --------------------- | ------------------------------------ | ----------------------------------- |\n",
    "| `run()`               | Run command, wait for it to complete | `subprocess.run([\"ls\"])`            |\n",
    "| `check_output()`      | Returns output directly              | `subprocess.check_output([\"date\"])` |\n",
    "| `Popen()`             | Advanced control (non-blocking)      | `p = subprocess.Popen(...)`         |\n",
    "| `capture_output=True` | Captures stdout/stderr               | `result.stdout`                     |\n",
    "| `text=True`           | Decodes bytes to string              | `result.stdout` is text             |\n",
    "| `check=True`          | Raises error if command fails        | `CalledProcessError`                |\n",
    "\n",
    "'''"
   ]
  },
  {
   "cell_type": "code",
   "execution_count": null,
   "id": "e8df2db9",
   "metadata": {},
   "outputs": [],
   "source": [
    "# Check if a Service Is Running\n",
    "import subprocess\n",
    "\n",
    "result = subprocess.run([\"systemctl\", \"is-active\", \"nginx\"], capture_output=True, text=True)\n",
    "if result.stdout.strip() == \"active\":\n",
    "    print(\"Nginx is running.\")\n",
    "else:\n",
    "    print(\"Nginx is not running.\")\n"
   ]
  }
 ],
 "metadata": {
  "kernelspec": {
   "display_name": "Python 3",
   "language": "python",
   "name": "python3"
  },
  "language_info": {
   "codemirror_mode": {
    "name": "ipython",
    "version": 3
   },
   "file_extension": ".py",
   "mimetype": "text/x-python",
   "name": "python",
   "nbconvert_exporter": "python",
   "pygments_lexer": "ipython3",
   "version": "3.13.0"
  }
 },
 "nbformat": 4,
 "nbformat_minor": 5
}
