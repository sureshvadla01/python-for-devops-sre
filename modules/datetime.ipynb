{
 "cells": [
  {
   "cell_type": "code",
   "execution_count": null,
   "id": "74f828d4",
   "metadata": {},
   "outputs": [],
   "source": [
    "# dates and times — whether you’re logging events, scheduling jobs, or timestamping data.\n",
    "'''\n",
    "The datetime module supplies classes to work with dates, times, and time intervals (durations) in Python.\n",
    "You can:\n",
    "Get the current date and time\n",
    "Parse strings into datetime objects\n",
    "Format dates for display\n",
    "Perform date/time arithmetic (add/subtract days, hours, etc.)\n",
    "'''"
   ]
  },
  {
   "cell_type": "code",
   "execution_count": null,
   "id": "71dbc3c9",
   "metadata": {},
   "outputs": [],
   "source": [
    "# Get Current Date and Time\n",
    "from datetime import datetime\n",
    "\n",
    "now = datetime.now()\n",
    "print(now)\n",
    "\n",
    "# 2025-10-08 09:35:42.184738\n"
   ]
  },
  {
   "cell_type": "code",
   "execution_count": null,
   "id": "8bc10cd3",
   "metadata": {},
   "outputs": [],
   "source": [
    "# Get Current Date Only\n",
    "from datetime import date\n",
    "\n",
    "today = date.today()\n",
    "print(today)\n",
    "\n",
    "# 2025-10-08\n"
   ]
  },
  {
   "cell_type": "code",
   "execution_count": null,
   "id": "223c8dd5",
   "metadata": {},
   "outputs": [],
   "source": [
    "# Create a Specific Date or Time\n",
    "from datetime import datetime, date, time\n",
    "\n",
    "d = date(2025, 10, 8)\n",
    "t = time(14, 30, 15)\n",
    "dt = datetime(2025, 10, 8, 14, 30, 15)\n",
    "\n",
    "print(d)\n",
    "print(t)\n",
    "print(dt)\n",
    "\n",
    "\n",
    "# 2025-10-08\n",
    "# 14:30:15\n",
    "# 2025-10-08 14:30:15\n"
   ]
  },
  {
   "cell_type": "code",
   "execution_count": null,
   "id": "f26914ff",
   "metadata": {},
   "outputs": [],
   "source": [
    "# Access Individual Components\n",
    "now = datetime.now()\n",
    "print(now.year)\n",
    "print(now.month)\n",
    "print(now.day)\n",
    "print(now.hour, now.minute, now.second)\n",
    "\n",
    "# 2025\n",
    "# 10\n",
    "# 8\n",
    "# 9 35 42\n"
   ]
  },
  {
   "cell_type": "code",
   "execution_count": null,
   "id": "8a6ceb54",
   "metadata": {},
   "outputs": [],
   "source": [
    "# Format Dates (strftime)\n",
    "# strftime() converts a datetime object to a formatted string.\n",
    "from datetime import datetime\n",
    "\n",
    "now = datetime.now()\n",
    "formatted = now.strftime(\"%Y-%m-%d %H:%M:%S\")\n",
    "print(formatted)\n",
    "\n",
    "# 2025-10-08 09:35:42\n",
    "\n",
    "'''\n",
    "| Code | Meaning            | Example     |\n",
    "| ---- | ------------------ | ----------- |\n",
    "| `%Y` | Year (4 digits)    | `2025`      |\n",
    "| `%m` | Month (01–12)      | `10`        |\n",
    "| `%d` | Day (01–31)        | `08`        |\n",
    "| `%H` | Hour (00–23)       | `09`        |\n",
    "| `%M` | Minute             | `35`        |\n",
    "| `%S` | Second             | `42`        |\n",
    "| `%A` | Weekday name       | `Wednesday` |\n",
    "| `%b` | Month abbreviation | `Oct`       |\n",
    "\n",
    "'''\n"
   ]
  },
  {
   "cell_type": "code",
   "execution_count": null,
   "id": "5c2b804f",
   "metadata": {},
   "outputs": [],
   "source": [
    "# Parse String → Datetime (strptime)\n",
    "# strptime() converts a string into a datetime object.\n",
    "\n",
    "from datetime import datetime\n",
    "\n",
    "dt = datetime.strptime(\"2025-10-08 14:30:00\", \"%Y-%m-%d %H:%M:%S\")\n",
    "print(dt)\n",
    "\n",
    "# 2025-10-08 14:30:00\n"
   ]
  },
  {
   "cell_type": "code",
   "execution_count": null,
   "id": "4e04d27d",
   "metadata": {},
   "outputs": [],
   "source": [
    "# Date Arithmetic with timedelta\n",
    "from datetime import datetime, timedelta\n",
    "\n",
    "now = datetime.now()\n",
    "yesterday = now - timedelta(days=1)\n",
    "next_week = now + timedelta(weeks=1)\n",
    "\n",
    "print(\"Yesterday:\", yesterday)\n",
    "print(\"Next week:\", next_week)\n",
    "\n",
    "# Yesterday: 2025-10-07 09:35:42\n",
    "# Next week: 2025-10-15 09:35:42\n"
   ]
  },
  {
   "cell_type": "code",
   "execution_count": null,
   "id": "8e4dc7cc",
   "metadata": {},
   "outputs": [],
   "source": [
    "# Difference Between Two Dates\n",
    "from datetime import date\n",
    "\n",
    "d1 = date(2025, 10, 1)\n",
    "d2 = date(2025, 10, 8)\n",
    "diff = d2 - d1\n",
    "\n",
    "print(diff.days)\n",
    "\n",
    "# 7\n"
   ]
  },
  {
   "cell_type": "code",
   "execution_count": null,
   "id": "d5efc9a9",
   "metadata": {},
   "outputs": [],
   "source": [
    "# Combine Date and Time\n",
    "\n",
    "from datetime import date, time, datetime\n",
    "\n",
    "d = date(2025, 10, 8)\n",
    "t = time(14, 30)\n",
    "dt = datetime.combine(d, t)\n",
    "print(dt)\n",
    "\n",
    "# 2025-10-08 14:30:00\n"
   ]
  },
  {
   "cell_type": "code",
   "execution_count": null,
   "id": "4e62a2f4",
   "metadata": {},
   "outputs": [],
   "source": [
    "# Working with Timezones (using timezone)\n",
    "\n",
    "from datetime import datetime, timezone, timedelta\n",
    "\n",
    "utc_now = datetime.now(timezone.utc)\n",
    "ist = timezone(timedelta(hours=5, minutes=30))\n",
    "\n",
    "local_time = utc_now.astimezone(ist)\n",
    "print(\"UTC:\", utc_now)\n",
    "print(\"IST:\", local_time)\n",
    "\n",
    "\n",
    "# UTC: 2025-10-08 14:10:00+00:00\n",
    "# IST: 2025-10-08 19:40:00+05:30\n"
   ]
  },
  {
   "cell_type": "code",
   "execution_count": null,
   "id": "e557d48a",
   "metadata": {},
   "outputs": [],
   "source": [
    "'''\n",
    "| Task            | Function         | Example         |\n",
    "| --------------- | ---------------- | --------------- |\n",
    "| Current time    | `datetime.now()` | Full date+time  |\n",
    "| Today’s date    | `date.today()`   | Date only       |\n",
    "| Format → string | `strftime()`     | `%Y-%m-%d`      |\n",
    "| Parse ← string  | `strptime()`     | `\"2025-10-08\"`  |\n",
    "| Add/subtract    | `timedelta()`    | `days=7`        |\n",
    "| Compare         | `>` `<`          | `date1 > date2` |\n",
    "| Timezone        | `timezone()`     | `UTC / IST`     |\n",
    "\n",
    "'''"
   ]
  },
  {
   "cell_type": "code",
   "execution_count": null,
   "id": "7820eb60",
   "metadata": {},
   "outputs": [],
   "source": [
    "# Timestamping Log File\n",
    "\n",
    "from datetime import datetime\n",
    "\n",
    "timestamp = datetime.now().strftime(\"%Y-%m-%d %H:%M:%S\")\n",
    "with open(\"log.txt\", \"a\") as f:\n",
    "    f.write(f\"[{timestamp}] Task completed.\\n\")\n",
    "\n",
    "# Adds a timestamped entry to your log file."
   ]
  }
 ],
 "metadata": {
  "language_info": {
   "name": "python"
  }
 },
 "nbformat": 4,
 "nbformat_minor": 5
}
