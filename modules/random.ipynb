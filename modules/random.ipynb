{
 "cells": [
  {
   "cell_type": "code",
   "execution_count": null,
   "id": "52fa67aa",
   "metadata": {},
   "outputs": [],
   "source": [
    "'''\n",
    "the random module in Python is used to generate random numbers or select random items — useful in games, simulations, sampling, password generation, and more.\n",
    "The random module provides functions to:\n",
    "\n",
    "Generate random numbers\n",
    "Pick random items from sequences (like lists or strings)\n",
    "Shuffle lists\n",
    "Create random samples\n",
    "'''"
   ]
  },
  {
   "cell_type": "code",
   "execution_count": 8,
   "id": "14efc735",
   "metadata": {},
   "outputs": [
    {
     "name": "stdout",
     "output_type": "stream",
     "text": [
      "0.34583811714146806\n"
     ]
    }
   ],
   "source": [
    "# Generate a Random Float (0–1)\n",
    "import random\n",
    "print(random.random())\n",
    "\n",
    "# 0.84736219026\n"
   ]
  },
  {
   "cell_type": "code",
   "execution_count": null,
   "id": "d66ce314",
   "metadata": {},
   "outputs": [],
   "source": [
    "# Random Integer\n",
    "random.randint(1, 10)\n",
    "\n",
    "# 7\n"
   ]
  },
  {
   "cell_type": "code",
   "execution_count": null,
   "id": "52550578",
   "metadata": {},
   "outputs": [],
   "source": [
    "# Random Range\n",
    "random.randrange(0, 100, 5)\n",
    "\n",
    "# 45\n",
    "# Works like range() — start, stop, step — but returns one random value."
   ]
  },
  {
   "cell_type": "code",
   "execution_count": null,
   "id": "afac931c",
   "metadata": {},
   "outputs": [],
   "source": [
    "# Random Choice from a List\n",
    "\n",
    "fruits = [\"apple\", \"banana\", \"cherry\", \"mango\"]\n",
    "print(random.choice(fruits))\n",
    "\n",
    "# banana\n"
   ]
  },
  {
   "cell_type": "code",
   "execution_count": null,
   "id": "3a67376d",
   "metadata": {},
   "outputs": [],
   "source": [
    "# Randomly Choose Multiple Items\n",
    "\n",
    "numbers = [1, 2, 3, 4, 5, 6]\n",
    "print(random.sample(numbers, 3))\n",
    "\n",
    "# [2, 6, 4]\n"
   ]
  },
  {
   "cell_type": "code",
   "execution_count": null,
   "id": "c3244f6e",
   "metadata": {},
   "outputs": [],
   "source": [
    "# Shuffle a List (in place)\n",
    "\n",
    "cards = [\"A\", \"K\", \"Q\", \"J\", \"10\"]\n",
    "random.shuffle(cards)\n",
    "print(cards)\n",
    "\n",
    "# ['10', 'A', 'Q', 'J', 'K']\n"
   ]
  },
  {
   "cell_type": "code",
   "execution_count": null,
   "id": "a293da0e",
   "metadata": {},
   "outputs": [],
   "source": [
    "# Random Float in a Range\n",
    "\n",
    "print(random.uniform(10.5, 20.5))\n",
    "\n",
    "# 14.73\n",
    "# Returns a float between given limits.\n"
   ]
  },
  {
   "cell_type": "code",
   "execution_count": null,
   "id": "ba5a3ba4",
   "metadata": {},
   "outputs": [],
   "source": [
    "# Random Boolean\n",
    "print(random.choice([True, False]))\n",
    "\n",
    "# True\n"
   ]
  },
  {
   "cell_type": "code",
   "execution_count": null,
   "id": "c23526e4",
   "metadata": {},
   "outputs": [],
   "source": [
    "# Random Seed\n",
    "# You can “seed” the generator to make results reproducible.\n",
    "\n",
    "random.seed(42)\n",
    "print(random.randint(1, 100))\n",
    "\n",
    "# Always returns the same number when using the same seed."
   ]
  },
  {
   "cell_type": "code",
   "execution_count": null,
   "id": "4dcf7a85",
   "metadata": {},
   "outputs": [],
   "source": [
    "'''\n",
    "Random Distribution Functions\n",
    "\n",
    "The random module includes some statistical functions.\n",
    "\n",
    "| Function                              | Description              | Example   |\n",
    "| ------------------------------------- | ------------------------ | --------- |\n",
    "| `random.random()`                     | 0.0–1.0 float            | `0.834`   |\n",
    "| `random.uniform(a,b)`                 | Float between a & b      | `13.22`   |\n",
    "| `random.randint(a,b)`                 | Integer between a & b    | `4`       |\n",
    "| `random.randrange(start, stop, step)` | Random number from range | `45`      |\n",
    "| `random.choice(seq)`                  | One random element       | `\"apple\"` |\n",
    "| `random.sample(seq, k)`               | k unique elements        | `[2,5,9]` |\n",
    "| `random.shuffle(seq)`                 | Shuffle list in-place    | —         |\n",
    "| `random.gauss(mu, sigma)`             | Gaussian distribution    | —         |\n",
    "| `random.expovariate(lambda)`          | Exponential distribution | —         |\n",
    "\n",
    "'''"
   ]
  },
  {
   "cell_type": "code",
   "execution_count": null,
   "id": "a18bb2b7",
   "metadata": {},
   "outputs": [],
   "source": [
    "# Dice Roll Simulation\n",
    "import random\n",
    "\n",
    "for i in range(5):\n",
    "    print(\"You rolled:\", random.randint(1, 6))\n",
    "\n",
    "# You rolled: 4\n",
    "# You rolled: 1\n",
    "# You rolled: 6"
   ]
  },
  {
   "cell_type": "code",
   "execution_count": null,
   "id": "0f54e272",
   "metadata": {},
   "outputs": [],
   "source": [
    "# Generate Random Password\n",
    "import random, string\n",
    "\n",
    "chars = string.ascii_letters + string.digits + string.punctuation\n",
    "password = ''.join(random.sample(chars, 10))\n",
    "print(password)\n",
    "\n",
    "\n",
    "# rE$2pT#b!9\n"
   ]
  },
  {
   "cell_type": "code",
   "execution_count": null,
   "id": "f6dfd889",
   "metadata": {},
   "outputs": [],
   "source": [
    "# Random Sampling from a Population\n",
    "import random\n",
    "\n",
    "people = [\"Alice\", \"Bob\", \"Charlie\", \"David\", \"Eve\"]\n",
    "team = random.sample(people, 3)\n",
    "print(\"Selected team:\", team)\n",
    "\n",
    "# Selected team: ['Eve', 'Charlie', 'Alice']\n"
   ]
  },
  {
   "cell_type": "code",
   "execution_count": null,
   "id": "9ad0b015",
   "metadata": {},
   "outputs": [],
   "source": [
    "'''\n",
    "| Task                  | Function                 | Example         |\n",
    "| --------------------- | ------------------------ | --------------- |\n",
    "| Random float (0–1)    | `random.random()`        | `0.75`          |\n",
    "| Random int            | `random.randint(1, 10)`  | `5`             |\n",
    "| Random float in range | `random.uniform(5, 10)`  | `7.3`           |\n",
    "| Random element        | `random.choice(list)`    | `\"apple\"`       |\n",
    "| Multiple random items | `random.sample(list, 3)` | `[1,4,6]`       |\n",
    "| Shuffle list          | `random.shuffle(list)`   | `['b','a','c']` |\n",
    "| Reproducible results  | `random.seed(42)`        | —               |\n",
    "\n",
    "'''"
   ]
  }
 ],
 "metadata": {
  "kernelspec": {
   "display_name": "Python 3",
   "language": "python",
   "name": "python3"
  },
  "language_info": {
   "codemirror_mode": {
    "name": "ipython",
    "version": 3
   },
   "file_extension": ".py",
   "mimetype": "text/x-python",
   "name": "python",
   "nbconvert_exporter": "python",
   "pygments_lexer": "ipython3",
   "version": "3.13.0"
  }
 },
 "nbformat": 4,
 "nbformat_minor": 5
}
